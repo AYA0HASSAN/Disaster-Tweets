{
  "nbformat": 4,
  "nbformat_minor": 0,
  "metadata": {
    "colab": {
      "name": "NLP_Project.ipynb",
      "provenance": [],
      "collapsed_sections": []
    },
    "kernelspec": {
      "name": "python3",
      "display_name": "Python 3"
    },
    "language_info": {
      "name": "python"
    },
    "accelerator": "GPU",
    "gpuClass": "standard"
  },
  "cells": [
    {
      "cell_type": "code",
      "execution_count": 1,
      "metadata": {
        "id": "KE6gvC8rrBuY"
      },
      "outputs": [],
      "source": [
        "!pip install -q kaggle"
      ]
    },
    {
      "cell_type": "code",
      "source": [
        "from getpass import getpass\n",
        "import os\n",
        "user = 'aya25hassan'\n",
        "key = '90e6ead9472ce545a5494f7ec775ed57'\n",
        "\n",
        "if '.kaggle' not in os.listdir('/root'):\n",
        "    !mkdir -p ~/.kaggle\n",
        "!touch /root/.kaggle/kaggle.json\n",
        "!chmod 666 /root/.kaggle/kaggle.json\n",
        "with open('/root/.kaggle/kaggle.json', 'w') as f:\n",
        "    f.write('{\"username\":\"%s\",\"key\":\"%s\"}' % (user, key))\n",
        "!chmod 600 /root/.kaggle/kaggle.json"
      ],
      "metadata": {
        "id": "8qDzC1dgrQ9m"
      },
      "execution_count": 2,
      "outputs": []
    },
    {
      "cell_type": "code",
      "source": [
        "!chmod 777 *"
      ],
      "metadata": {
        "id": "Ck34m4H2rXj_"
      },
      "execution_count": 3,
      "outputs": []
    },
    {
      "cell_type": "code",
      "source": [
        "!kaggle competitions download -c nlp-getting-started"
      ],
      "metadata": {
        "colab": {
          "base_uri": "https://localhost:8080/"
        },
        "id": "V-9GS7CusE77",
        "outputId": "0ba0bcf6-0703-4aa6-b9af-f4ce48ee1a1e"
      },
      "execution_count": 4,
      "outputs": [
        {
          "output_type": "stream",
          "name": "stdout",
          "text": [
            "Downloading nlp-getting-started.zip to /content\n",
            "\r  0% 0.00/593k [00:00<?, ?B/s]\n",
            "\r100% 593k/593k [00:00<00:00, 125MB/s]\n"
          ]
        }
      ]
    },
    {
      "cell_type": "code",
      "source": [
        "!unzip nlp-getting-started.zip"
      ],
      "metadata": {
        "colab": {
          "base_uri": "https://localhost:8080/"
        },
        "id": "-EXOm20AsW1-",
        "outputId": "4da9da90-a4a0-4162-dbb3-596a8c4aeec6"
      },
      "execution_count": 5,
      "outputs": [
        {
          "output_type": "stream",
          "name": "stdout",
          "text": [
            "Archive:  nlp-getting-started.zip\n",
            "  inflating: sample_submission.csv   \n",
            "  inflating: test.csv                \n",
            "  inflating: train.csv               \n"
          ]
        }
      ]
    },
    {
      "cell_type": "code",
      "source": [
        "import nltk \n",
        "nltk.download(\"all\")\n",
        "from nltk.tokenize import word_tokenize\n",
        "# from nltk import SyllableTokenizer\n",
        "# tk = SyllableTokenizer()"
      ],
      "metadata": {
        "colab": {
          "base_uri": "https://localhost:8080/"
        },
        "id": "pJvJRA59Y2_Z",
        "outputId": "4924e794-5fd7-40ba-92f5-c93601b511ba"
      },
      "execution_count": 6,
      "outputs": [
        {
          "output_type": "stream",
          "name": "stderr",
          "text": [
            "[nltk_data] Downloading collection 'all'\n",
            "[nltk_data]    | \n",
            "[nltk_data]    | Downloading package abc to /root/nltk_data...\n",
            "[nltk_data]    |   Unzipping corpora/abc.zip.\n",
            "[nltk_data]    | Downloading package alpino to /root/nltk_data...\n",
            "[nltk_data]    |   Unzipping corpora/alpino.zip.\n",
            "[nltk_data]    | Downloading package averaged_perceptron_tagger to\n",
            "[nltk_data]    |     /root/nltk_data...\n",
            "[nltk_data]    |   Unzipping taggers/averaged_perceptron_tagger.zip.\n",
            "[nltk_data]    | Downloading package averaged_perceptron_tagger_ru to\n",
            "[nltk_data]    |     /root/nltk_data...\n",
            "[nltk_data]    |   Unzipping\n",
            "[nltk_data]    |       taggers/averaged_perceptron_tagger_ru.zip.\n",
            "[nltk_data]    | Downloading package basque_grammars to\n",
            "[nltk_data]    |     /root/nltk_data...\n",
            "[nltk_data]    |   Unzipping grammars/basque_grammars.zip.\n",
            "[nltk_data]    | Downloading package biocreative_ppi to\n",
            "[nltk_data]    |     /root/nltk_data...\n",
            "[nltk_data]    |   Unzipping corpora/biocreative_ppi.zip.\n",
            "[nltk_data]    | Downloading package bllip_wsj_no_aux to\n",
            "[nltk_data]    |     /root/nltk_data...\n",
            "[nltk_data]    |   Unzipping models/bllip_wsj_no_aux.zip.\n",
            "[nltk_data]    | Downloading package book_grammars to\n",
            "[nltk_data]    |     /root/nltk_data...\n",
            "[nltk_data]    |   Unzipping grammars/book_grammars.zip.\n",
            "[nltk_data]    | Downloading package brown to /root/nltk_data...\n",
            "[nltk_data]    |   Unzipping corpora/brown.zip.\n",
            "[nltk_data]    | Downloading package brown_tei to /root/nltk_data...\n",
            "[nltk_data]    |   Unzipping corpora/brown_tei.zip.\n",
            "[nltk_data]    | Downloading package cess_cat to /root/nltk_data...\n",
            "[nltk_data]    |   Unzipping corpora/cess_cat.zip.\n",
            "[nltk_data]    | Downloading package cess_esp to /root/nltk_data...\n",
            "[nltk_data]    |   Unzipping corpora/cess_esp.zip.\n",
            "[nltk_data]    | Downloading package chat80 to /root/nltk_data...\n",
            "[nltk_data]    |   Unzipping corpora/chat80.zip.\n",
            "[nltk_data]    | Downloading package city_database to\n",
            "[nltk_data]    |     /root/nltk_data...\n",
            "[nltk_data]    |   Unzipping corpora/city_database.zip.\n",
            "[nltk_data]    | Downloading package cmudict to /root/nltk_data...\n",
            "[nltk_data]    |   Unzipping corpora/cmudict.zip.\n",
            "[nltk_data]    | Downloading package comparative_sentences to\n",
            "[nltk_data]    |     /root/nltk_data...\n",
            "[nltk_data]    |   Unzipping corpora/comparative_sentences.zip.\n",
            "[nltk_data]    | Downloading package comtrans to /root/nltk_data...\n",
            "[nltk_data]    | Downloading package conll2000 to /root/nltk_data...\n",
            "[nltk_data]    |   Unzipping corpora/conll2000.zip.\n",
            "[nltk_data]    | Downloading package conll2002 to /root/nltk_data...\n",
            "[nltk_data]    |   Unzipping corpora/conll2002.zip.\n",
            "[nltk_data]    | Downloading package conll2007 to /root/nltk_data...\n",
            "[nltk_data]    | Downloading package crubadan to /root/nltk_data...\n",
            "[nltk_data]    |   Unzipping corpora/crubadan.zip.\n",
            "[nltk_data]    | Downloading package dependency_treebank to\n",
            "[nltk_data]    |     /root/nltk_data...\n",
            "[nltk_data]    |   Unzipping corpora/dependency_treebank.zip.\n",
            "[nltk_data]    | Downloading package dolch to /root/nltk_data...\n",
            "[nltk_data]    |   Unzipping corpora/dolch.zip.\n",
            "[nltk_data]    | Downloading package europarl_raw to\n",
            "[nltk_data]    |     /root/nltk_data...\n",
            "[nltk_data]    |   Unzipping corpora/europarl_raw.zip.\n",
            "[nltk_data]    | Downloading package extended_omw to\n",
            "[nltk_data]    |     /root/nltk_data...\n",
            "[nltk_data]    |   Unzipping corpora/extended_omw.zip.\n",
            "[nltk_data]    | Downloading package floresta to /root/nltk_data...\n",
            "[nltk_data]    |   Unzipping corpora/floresta.zip.\n",
            "[nltk_data]    | Downloading package framenet_v15 to\n",
            "[nltk_data]    |     /root/nltk_data...\n",
            "[nltk_data]    |   Unzipping corpora/framenet_v15.zip.\n",
            "[nltk_data]    | Downloading package framenet_v17 to\n",
            "[nltk_data]    |     /root/nltk_data...\n",
            "[nltk_data]    |   Unzipping corpora/framenet_v17.zip.\n",
            "[nltk_data]    | Downloading package gazetteers to /root/nltk_data...\n",
            "[nltk_data]    |   Unzipping corpora/gazetteers.zip.\n",
            "[nltk_data]    | Downloading package genesis to /root/nltk_data...\n",
            "[nltk_data]    |   Unzipping corpora/genesis.zip.\n",
            "[nltk_data]    | Downloading package gutenberg to /root/nltk_data...\n",
            "[nltk_data]    |   Unzipping corpora/gutenberg.zip.\n",
            "[nltk_data]    | Downloading package ieer to /root/nltk_data...\n",
            "[nltk_data]    |   Unzipping corpora/ieer.zip.\n",
            "[nltk_data]    | Downloading package inaugural to /root/nltk_data...\n",
            "[nltk_data]    |   Unzipping corpora/inaugural.zip.\n",
            "[nltk_data]    | Downloading package indian to /root/nltk_data...\n",
            "[nltk_data]    |   Unzipping corpora/indian.zip.\n",
            "[nltk_data]    | Downloading package jeita to /root/nltk_data...\n",
            "[nltk_data]    | Downloading package kimmo to /root/nltk_data...\n",
            "[nltk_data]    |   Unzipping corpora/kimmo.zip.\n",
            "[nltk_data]    | Downloading package knbc to /root/nltk_data...\n",
            "[nltk_data]    | Downloading package large_grammars to\n",
            "[nltk_data]    |     /root/nltk_data...\n",
            "[nltk_data]    |   Unzipping grammars/large_grammars.zip.\n",
            "[nltk_data]    | Downloading package lin_thesaurus to\n",
            "[nltk_data]    |     /root/nltk_data...\n",
            "[nltk_data]    |   Unzipping corpora/lin_thesaurus.zip.\n",
            "[nltk_data]    | Downloading package mac_morpho to /root/nltk_data...\n",
            "[nltk_data]    |   Unzipping corpora/mac_morpho.zip.\n",
            "[nltk_data]    | Downloading package machado to /root/nltk_data...\n",
            "[nltk_data]    | Downloading package masc_tagged to /root/nltk_data...\n",
            "[nltk_data]    | Downloading package maxent_ne_chunker to\n",
            "[nltk_data]    |     /root/nltk_data...\n",
            "[nltk_data]    |   Unzipping chunkers/maxent_ne_chunker.zip.\n",
            "[nltk_data]    | Downloading package maxent_treebank_pos_tagger to\n",
            "[nltk_data]    |     /root/nltk_data...\n",
            "[nltk_data]    |   Unzipping taggers/maxent_treebank_pos_tagger.zip.\n",
            "[nltk_data]    | Downloading package moses_sample to\n",
            "[nltk_data]    |     /root/nltk_data...\n",
            "[nltk_data]    |   Unzipping models/moses_sample.zip.\n",
            "[nltk_data]    | Downloading package movie_reviews to\n",
            "[nltk_data]    |     /root/nltk_data...\n",
            "[nltk_data]    |   Unzipping corpora/movie_reviews.zip.\n",
            "[nltk_data]    | Downloading package mte_teip5 to /root/nltk_data...\n",
            "[nltk_data]    |   Unzipping corpora/mte_teip5.zip.\n",
            "[nltk_data]    | Downloading package mwa_ppdb to /root/nltk_data...\n",
            "[nltk_data]    |   Unzipping misc/mwa_ppdb.zip.\n",
            "[nltk_data]    | Downloading package names to /root/nltk_data...\n",
            "[nltk_data]    |   Unzipping corpora/names.zip.\n",
            "[nltk_data]    | Downloading package nombank.1.0 to /root/nltk_data...\n",
            "[nltk_data]    | Downloading package nonbreaking_prefixes to\n",
            "[nltk_data]    |     /root/nltk_data...\n",
            "[nltk_data]    |   Unzipping corpora/nonbreaking_prefixes.zip.\n",
            "[nltk_data]    | Downloading package nps_chat to /root/nltk_data...\n",
            "[nltk_data]    |   Unzipping corpora/nps_chat.zip.\n",
            "[nltk_data]    | Downloading package omw to /root/nltk_data...\n",
            "[nltk_data]    |   Unzipping corpora/omw.zip.\n",
            "[nltk_data]    | Downloading package omw-1.4 to /root/nltk_data...\n",
            "[nltk_data]    |   Unzipping corpora/omw-1.4.zip.\n",
            "[nltk_data]    | Downloading package opinion_lexicon to\n",
            "[nltk_data]    |     /root/nltk_data...\n",
            "[nltk_data]    |   Unzipping corpora/opinion_lexicon.zip.\n",
            "[nltk_data]    | Downloading package panlex_swadesh to\n",
            "[nltk_data]    |     /root/nltk_data...\n",
            "[nltk_data]    | Downloading package paradigms to /root/nltk_data...\n",
            "[nltk_data]    |   Unzipping corpora/paradigms.zip.\n",
            "[nltk_data]    | Downloading package pe08 to /root/nltk_data...\n",
            "[nltk_data]    |   Unzipping corpora/pe08.zip.\n",
            "[nltk_data]    | Downloading package perluniprops to\n",
            "[nltk_data]    |     /root/nltk_data...\n",
            "[nltk_data]    |   Unzipping misc/perluniprops.zip.\n",
            "[nltk_data]    | Downloading package pil to /root/nltk_data...\n",
            "[nltk_data]    |   Unzipping corpora/pil.zip.\n",
            "[nltk_data]    | Downloading package pl196x to /root/nltk_data...\n",
            "[nltk_data]    |   Unzipping corpora/pl196x.zip.\n",
            "[nltk_data]    | Downloading package porter_test to /root/nltk_data...\n",
            "[nltk_data]    |   Unzipping stemmers/porter_test.zip.\n",
            "[nltk_data]    | Downloading package ppattach to /root/nltk_data...\n",
            "[nltk_data]    |   Unzipping corpora/ppattach.zip.\n",
            "[nltk_data]    | Downloading package problem_reports to\n",
            "[nltk_data]    |     /root/nltk_data...\n",
            "[nltk_data]    |   Unzipping corpora/problem_reports.zip.\n",
            "[nltk_data]    | Downloading package product_reviews_1 to\n",
            "[nltk_data]    |     /root/nltk_data...\n",
            "[nltk_data]    |   Unzipping corpora/product_reviews_1.zip.\n",
            "[nltk_data]    | Downloading package product_reviews_2 to\n",
            "[nltk_data]    |     /root/nltk_data...\n",
            "[nltk_data]    |   Unzipping corpora/product_reviews_2.zip.\n",
            "[nltk_data]    | Downloading package propbank to /root/nltk_data...\n",
            "[nltk_data]    | Downloading package pros_cons to /root/nltk_data...\n",
            "[nltk_data]    |   Unzipping corpora/pros_cons.zip.\n",
            "[nltk_data]    | Downloading package ptb to /root/nltk_data...\n",
            "[nltk_data]    |   Unzipping corpora/ptb.zip.\n",
            "[nltk_data]    | Downloading package punkt to /root/nltk_data...\n",
            "[nltk_data]    |   Unzipping tokenizers/punkt.zip.\n",
            "[nltk_data]    | Downloading package qc to /root/nltk_data...\n",
            "[nltk_data]    |   Unzipping corpora/qc.zip.\n",
            "[nltk_data]    | Downloading package reuters to /root/nltk_data...\n",
            "[nltk_data]    | Downloading package rslp to /root/nltk_data...\n",
            "[nltk_data]    |   Unzipping stemmers/rslp.zip.\n",
            "[nltk_data]    | Downloading package rte to /root/nltk_data...\n",
            "[nltk_data]    |   Unzipping corpora/rte.zip.\n",
            "[nltk_data]    | Downloading package sample_grammars to\n",
            "[nltk_data]    |     /root/nltk_data...\n",
            "[nltk_data]    |   Unzipping grammars/sample_grammars.zip.\n",
            "[nltk_data]    | Downloading package semcor to /root/nltk_data...\n",
            "[nltk_data]    | Downloading package senseval to /root/nltk_data...\n",
            "[nltk_data]    |   Unzipping corpora/senseval.zip.\n",
            "[nltk_data]    | Downloading package sentence_polarity to\n",
            "[nltk_data]    |     /root/nltk_data...\n",
            "[nltk_data]    |   Unzipping corpora/sentence_polarity.zip.\n",
            "[nltk_data]    | Downloading package sentiwordnet to\n",
            "[nltk_data]    |     /root/nltk_data...\n",
            "[nltk_data]    |   Unzipping corpora/sentiwordnet.zip.\n",
            "[nltk_data]    | Downloading package shakespeare to /root/nltk_data...\n",
            "[nltk_data]    |   Unzipping corpora/shakespeare.zip.\n",
            "[nltk_data]    | Downloading package sinica_treebank to\n",
            "[nltk_data]    |     /root/nltk_data...\n",
            "[nltk_data]    |   Unzipping corpora/sinica_treebank.zip.\n",
            "[nltk_data]    | Downloading package smultron to /root/nltk_data...\n",
            "[nltk_data]    |   Unzipping corpora/smultron.zip.\n",
            "[nltk_data]    | Downloading package snowball_data to\n",
            "[nltk_data]    |     /root/nltk_data...\n",
            "[nltk_data]    | Downloading package spanish_grammars to\n",
            "[nltk_data]    |     /root/nltk_data...\n",
            "[nltk_data]    |   Unzipping grammars/spanish_grammars.zip.\n",
            "[nltk_data]    | Downloading package state_union to /root/nltk_data...\n",
            "[nltk_data]    |   Unzipping corpora/state_union.zip.\n",
            "[nltk_data]    | Downloading package stopwords to /root/nltk_data...\n",
            "[nltk_data]    |   Unzipping corpora/stopwords.zip.\n",
            "[nltk_data]    | Downloading package subjectivity to\n",
            "[nltk_data]    |     /root/nltk_data...\n",
            "[nltk_data]    |   Unzipping corpora/subjectivity.zip.\n",
            "[nltk_data]    | Downloading package swadesh to /root/nltk_data...\n",
            "[nltk_data]    |   Unzipping corpora/swadesh.zip.\n",
            "[nltk_data]    | Downloading package switchboard to /root/nltk_data...\n",
            "[nltk_data]    |   Unzipping corpora/switchboard.zip.\n",
            "[nltk_data]    | Downloading package tagsets to /root/nltk_data...\n",
            "[nltk_data]    |   Unzipping help/tagsets.zip.\n",
            "[nltk_data]    | Downloading package timit to /root/nltk_data...\n",
            "[nltk_data]    |   Unzipping corpora/timit.zip.\n",
            "[nltk_data]    | Downloading package toolbox to /root/nltk_data...\n",
            "[nltk_data]    |   Unzipping corpora/toolbox.zip.\n",
            "[nltk_data]    | Downloading package treebank to /root/nltk_data...\n",
            "[nltk_data]    |   Unzipping corpora/treebank.zip.\n",
            "[nltk_data]    | Downloading package twitter_samples to\n",
            "[nltk_data]    |     /root/nltk_data...\n",
            "[nltk_data]    |   Unzipping corpora/twitter_samples.zip.\n",
            "[nltk_data]    | Downloading package udhr to /root/nltk_data...\n",
            "[nltk_data]    |   Unzipping corpora/udhr.zip.\n",
            "[nltk_data]    | Downloading package udhr2 to /root/nltk_data...\n",
            "[nltk_data]    |   Unzipping corpora/udhr2.zip.\n",
            "[nltk_data]    | Downloading package unicode_samples to\n",
            "[nltk_data]    |     /root/nltk_data...\n",
            "[nltk_data]    |   Unzipping corpora/unicode_samples.zip.\n",
            "[nltk_data]    | Downloading package universal_tagset to\n",
            "[nltk_data]    |     /root/nltk_data...\n",
            "[nltk_data]    |   Unzipping taggers/universal_tagset.zip.\n",
            "[nltk_data]    | Downloading package universal_treebanks_v20 to\n",
            "[nltk_data]    |     /root/nltk_data...\n",
            "[nltk_data]    | Downloading package vader_lexicon to\n",
            "[nltk_data]    |     /root/nltk_data...\n",
            "[nltk_data]    | Downloading package verbnet to /root/nltk_data...\n",
            "[nltk_data]    |   Unzipping corpora/verbnet.zip.\n",
            "[nltk_data]    | Downloading package verbnet3 to /root/nltk_data...\n",
            "[nltk_data]    |   Unzipping corpora/verbnet3.zip.\n",
            "[nltk_data]    | Downloading package webtext to /root/nltk_data...\n",
            "[nltk_data]    |   Unzipping corpora/webtext.zip.\n",
            "[nltk_data]    | Downloading package wmt15_eval to /root/nltk_data...\n",
            "[nltk_data]    |   Unzipping models/wmt15_eval.zip.\n",
            "[nltk_data]    | Downloading package word2vec_sample to\n",
            "[nltk_data]    |     /root/nltk_data...\n",
            "[nltk_data]    |   Unzipping models/word2vec_sample.zip.\n",
            "[nltk_data]    | Downloading package wordnet to /root/nltk_data...\n",
            "[nltk_data]    |   Unzipping corpora/wordnet.zip.\n",
            "[nltk_data]    | Downloading package wordnet2021 to /root/nltk_data...\n",
            "[nltk_data]    |   Unzipping corpora/wordnet2021.zip.\n",
            "[nltk_data]    | Downloading package wordnet31 to /root/nltk_data...\n",
            "[nltk_data]    |   Unzipping corpora/wordnet31.zip.\n",
            "[nltk_data]    | Downloading package wordnet_ic to /root/nltk_data...\n",
            "[nltk_data]    |   Unzipping corpora/wordnet_ic.zip.\n",
            "[nltk_data]    | Downloading package words to /root/nltk_data...\n",
            "[nltk_data]    |   Unzipping corpora/words.zip.\n",
            "[nltk_data]    | Downloading package ycoe to /root/nltk_data...\n",
            "[nltk_data]    |   Unzipping corpora/ycoe.zip.\n",
            "[nltk_data]    | \n",
            "[nltk_data]  Done downloading collection all\n"
          ]
        }
      ]
    },
    {
      "cell_type": "code",
      "source": [
        "import pandas as pd\n",
        "import numpy as np\n",
        "train_df = pd.read_csv(\"train.csv\")\n",
        "test_df = pd.read_csv(\"test.csv\")\n",
        "train_df.head()"
      ],
      "metadata": {
        "colab": {
          "base_uri": "https://localhost:8080/",
          "height": 206
        },
        "id": "epPUddgwu1F2",
        "outputId": "f94ee39b-22e6-4c14-e852-ab205f81760f"
      },
      "execution_count": 7,
      "outputs": [
        {
          "output_type": "execute_result",
          "data": {
            "text/plain": [
              "   id keyword location                                               text  \\\n",
              "0   1     NaN      NaN  Our Deeds are the Reason of this #earthquake M...   \n",
              "1   4     NaN      NaN             Forest fire near La Ronge Sask. Canada   \n",
              "2   5     NaN      NaN  All residents asked to 'shelter in place' are ...   \n",
              "3   6     NaN      NaN  13,000 people receive #wildfires evacuation or...   \n",
              "4   7     NaN      NaN  Just got sent this photo from Ruby #Alaska as ...   \n",
              "\n",
              "   target  \n",
              "0       1  \n",
              "1       1  \n",
              "2       1  \n",
              "3       1  \n",
              "4       1  "
            ],
            "text/html": [
              "\n",
              "  <div id=\"df-fcf54971-6208-43a4-9759-e8ca05ee404a\">\n",
              "    <div class=\"colab-df-container\">\n",
              "      <div>\n",
              "<style scoped>\n",
              "    .dataframe tbody tr th:only-of-type {\n",
              "        vertical-align: middle;\n",
              "    }\n",
              "\n",
              "    .dataframe tbody tr th {\n",
              "        vertical-align: top;\n",
              "    }\n",
              "\n",
              "    .dataframe thead th {\n",
              "        text-align: right;\n",
              "    }\n",
              "</style>\n",
              "<table border=\"1\" class=\"dataframe\">\n",
              "  <thead>\n",
              "    <tr style=\"text-align: right;\">\n",
              "      <th></th>\n",
              "      <th>id</th>\n",
              "      <th>keyword</th>\n",
              "      <th>location</th>\n",
              "      <th>text</th>\n",
              "      <th>target</th>\n",
              "    </tr>\n",
              "  </thead>\n",
              "  <tbody>\n",
              "    <tr>\n",
              "      <th>0</th>\n",
              "      <td>1</td>\n",
              "      <td>NaN</td>\n",
              "      <td>NaN</td>\n",
              "      <td>Our Deeds are the Reason of this #earthquake M...</td>\n",
              "      <td>1</td>\n",
              "    </tr>\n",
              "    <tr>\n",
              "      <th>1</th>\n",
              "      <td>4</td>\n",
              "      <td>NaN</td>\n",
              "      <td>NaN</td>\n",
              "      <td>Forest fire near La Ronge Sask. Canada</td>\n",
              "      <td>1</td>\n",
              "    </tr>\n",
              "    <tr>\n",
              "      <th>2</th>\n",
              "      <td>5</td>\n",
              "      <td>NaN</td>\n",
              "      <td>NaN</td>\n",
              "      <td>All residents asked to 'shelter in place' are ...</td>\n",
              "      <td>1</td>\n",
              "    </tr>\n",
              "    <tr>\n",
              "      <th>3</th>\n",
              "      <td>6</td>\n",
              "      <td>NaN</td>\n",
              "      <td>NaN</td>\n",
              "      <td>13,000 people receive #wildfires evacuation or...</td>\n",
              "      <td>1</td>\n",
              "    </tr>\n",
              "    <tr>\n",
              "      <th>4</th>\n",
              "      <td>7</td>\n",
              "      <td>NaN</td>\n",
              "      <td>NaN</td>\n",
              "      <td>Just got sent this photo from Ruby #Alaska as ...</td>\n",
              "      <td>1</td>\n",
              "    </tr>\n",
              "  </tbody>\n",
              "</table>\n",
              "</div>\n",
              "      <button class=\"colab-df-convert\" onclick=\"convertToInteractive('df-fcf54971-6208-43a4-9759-e8ca05ee404a')\"\n",
              "              title=\"Convert this dataframe to an interactive table.\"\n",
              "              style=\"display:none;\">\n",
              "        \n",
              "  <svg xmlns=\"http://www.w3.org/2000/svg\" height=\"24px\"viewBox=\"0 0 24 24\"\n",
              "       width=\"24px\">\n",
              "    <path d=\"M0 0h24v24H0V0z\" fill=\"none\"/>\n",
              "    <path d=\"M18.56 5.44l.94 2.06.94-2.06 2.06-.94-2.06-.94-.94-2.06-.94 2.06-2.06.94zm-11 1L8.5 8.5l.94-2.06 2.06-.94-2.06-.94L8.5 2.5l-.94 2.06-2.06.94zm10 10l.94 2.06.94-2.06 2.06-.94-2.06-.94-.94-2.06-.94 2.06-2.06.94z\"/><path d=\"M17.41 7.96l-1.37-1.37c-.4-.4-.92-.59-1.43-.59-.52 0-1.04.2-1.43.59L10.3 9.45l-7.72 7.72c-.78.78-.78 2.05 0 2.83L4 21.41c.39.39.9.59 1.41.59.51 0 1.02-.2 1.41-.59l7.78-7.78 2.81-2.81c.8-.78.8-2.07 0-2.86zM5.41 20L4 18.59l7.72-7.72 1.47 1.35L5.41 20z\"/>\n",
              "  </svg>\n",
              "      </button>\n",
              "      \n",
              "  <style>\n",
              "    .colab-df-container {\n",
              "      display:flex;\n",
              "      flex-wrap:wrap;\n",
              "      gap: 12px;\n",
              "    }\n",
              "\n",
              "    .colab-df-convert {\n",
              "      background-color: #E8F0FE;\n",
              "      border: none;\n",
              "      border-radius: 50%;\n",
              "      cursor: pointer;\n",
              "      display: none;\n",
              "      fill: #1967D2;\n",
              "      height: 32px;\n",
              "      padding: 0 0 0 0;\n",
              "      width: 32px;\n",
              "    }\n",
              "\n",
              "    .colab-df-convert:hover {\n",
              "      background-color: #E2EBFA;\n",
              "      box-shadow: 0px 1px 2px rgba(60, 64, 67, 0.3), 0px 1px 3px 1px rgba(60, 64, 67, 0.15);\n",
              "      fill: #174EA6;\n",
              "    }\n",
              "\n",
              "    [theme=dark] .colab-df-convert {\n",
              "      background-color: #3B4455;\n",
              "      fill: #D2E3FC;\n",
              "    }\n",
              "\n",
              "    [theme=dark] .colab-df-convert:hover {\n",
              "      background-color: #434B5C;\n",
              "      box-shadow: 0px 1px 3px 1px rgba(0, 0, 0, 0.15);\n",
              "      filter: drop-shadow(0px 1px 2px rgba(0, 0, 0, 0.3));\n",
              "      fill: #FFFFFF;\n",
              "    }\n",
              "  </style>\n",
              "\n",
              "      <script>\n",
              "        const buttonEl =\n",
              "          document.querySelector('#df-fcf54971-6208-43a4-9759-e8ca05ee404a button.colab-df-convert');\n",
              "        buttonEl.style.display =\n",
              "          google.colab.kernel.accessAllowed ? 'block' : 'none';\n",
              "\n",
              "        async function convertToInteractive(key) {\n",
              "          const element = document.querySelector('#df-fcf54971-6208-43a4-9759-e8ca05ee404a');\n",
              "          const dataTable =\n",
              "            await google.colab.kernel.invokeFunction('convertToInteractive',\n",
              "                                                     [key], {});\n",
              "          if (!dataTable) return;\n",
              "\n",
              "          const docLinkHtml = 'Like what you see? Visit the ' +\n",
              "            '<a target=\"_blank\" href=https://colab.research.google.com/notebooks/data_table.ipynb>data table notebook</a>'\n",
              "            + ' to learn more about interactive tables.';\n",
              "          element.innerHTML = '';\n",
              "          dataTable['output_type'] = 'display_data';\n",
              "          await google.colab.output.renderOutput(dataTable, element);\n",
              "          const docLink = document.createElement('div');\n",
              "          docLink.innerHTML = docLinkHtml;\n",
              "          element.appendChild(docLink);\n",
              "        }\n",
              "      </script>\n",
              "    </div>\n",
              "  </div>\n",
              "  "
            ]
          },
          "metadata": {},
          "execution_count": 7
        }
      ]
    },
    {
      "cell_type": "code",
      "source": [
        "train_df.info()"
      ],
      "metadata": {
        "colab": {
          "base_uri": "https://localhost:8080/"
        },
        "id": "Cghfo7LME03H",
        "outputId": "2f602acc-8588-4436-b5d4-807f029c7427"
      },
      "execution_count": 8,
      "outputs": [
        {
          "output_type": "stream",
          "name": "stdout",
          "text": [
            "<class 'pandas.core.frame.DataFrame'>\n",
            "RangeIndex: 7613 entries, 0 to 7612\n",
            "Data columns (total 5 columns):\n",
            " #   Column    Non-Null Count  Dtype \n",
            "---  ------    --------------  ----- \n",
            " 0   id        7613 non-null   int64 \n",
            " 1   keyword   7552 non-null   object\n",
            " 2   location  5080 non-null   object\n",
            " 3   text      7613 non-null   object\n",
            " 4   target    7613 non-null   int64 \n",
            "dtypes: int64(2), object(3)\n",
            "memory usage: 297.5+ KB\n"
          ]
        }
      ]
    },
    {
      "cell_type": "code",
      "source": [
        "train_df[\"keyword\"].value_counts()"
      ],
      "metadata": {
        "colab": {
          "base_uri": "https://localhost:8080/"
        },
        "id": "7sbR167dFBMv",
        "outputId": "6ae1d79b-d8fc-42f8-c8ad-a16c65e06982"
      },
      "execution_count": 9,
      "outputs": [
        {
          "output_type": "execute_result",
          "data": {
            "text/plain": [
              "fatalities               45\n",
              "deluge                   42\n",
              "armageddon               42\n",
              "sinking                  41\n",
              "damage                   41\n",
              "                         ..\n",
              "forest%20fire            19\n",
              "epicentre                12\n",
              "threat                   11\n",
              "inundation               10\n",
              "radiation%20emergency     9\n",
              "Name: keyword, Length: 221, dtype: int64"
            ]
          },
          "metadata": {},
          "execution_count": 9
        }
      ]
    },
    {
      "cell_type": "code",
      "source": [
        "train_df[\"location\"].value_counts()"
      ],
      "metadata": {
        "colab": {
          "base_uri": "https://localhost:8080/"
        },
        "id": "P9zWxt3PFMI7",
        "outputId": "7c85258e-6bba-4c38-9dd0-bb189558ed80"
      },
      "execution_count": 10,
      "outputs": [
        {
          "output_type": "execute_result",
          "data": {
            "text/plain": [
              "USA                    104\n",
              "New York                71\n",
              "United States           50\n",
              "London                  45\n",
              "Canada                  29\n",
              "                      ... \n",
              "MontrÌ©al, QuÌ©bec       1\n",
              "Montreal                 1\n",
              "ÌÏT: 6.4682,3.18287      1\n",
              "Live4Heed??              1\n",
              "Lincoln                  1\n",
              "Name: location, Length: 3341, dtype: int64"
            ]
          },
          "metadata": {},
          "execution_count": 10
        }
      ]
    },
    {
      "cell_type": "code",
      "source": [
        "train_df.isnull().sum()"
      ],
      "metadata": {
        "colab": {
          "base_uri": "https://localhost:8080/"
        },
        "id": "QKsFrGUxXDOf",
        "outputId": "deca6c2e-f0cb-4d4d-cef0-50762c9489bd"
      },
      "execution_count": 11,
      "outputs": [
        {
          "output_type": "execute_result",
          "data": {
            "text/plain": [
              "id             0\n",
              "keyword       61\n",
              "location    2533\n",
              "text           0\n",
              "target         0\n",
              "dtype: int64"
            ]
          },
          "metadata": {},
          "execution_count": 11
        }
      ]
    },
    {
      "cell_type": "code",
      "source": [
        "train_df[\"target\"].value_counts()"
      ],
      "metadata": {
        "colab": {
          "base_uri": "https://localhost:8080/"
        },
        "id": "NGPrHWhRYRaV",
        "outputId": "55935f73-3fec-4805-c30c-5aa303ff96eb"
      },
      "execution_count": 12,
      "outputs": [
        {
          "output_type": "execute_result",
          "data": {
            "text/plain": [
              "0    4342\n",
              "1    3271\n",
              "Name: target, dtype: int64"
            ]
          },
          "metadata": {},
          "execution_count": 12
        }
      ]
    },
    {
      "cell_type": "code",
      "source": [
        "import seaborn as sns\n",
        "sns.countplot(train_df[\"target\"])"
      ],
      "metadata": {
        "colab": {
          "base_uri": "https://localhost:8080/",
          "height": 351
        },
        "id": "hf0uk565X9N-",
        "outputId": "002722ce-87ab-4b41-ee9a-cf20114f3f9b"
      },
      "execution_count": 13,
      "outputs": [
        {
          "output_type": "stream",
          "name": "stderr",
          "text": [
            "/usr/local/lib/python3.7/dist-packages/seaborn/_decorators.py:43: FutureWarning: Pass the following variable as a keyword arg: x. From version 0.12, the only valid positional argument will be `data`, and passing other arguments without an explicit keyword will result in an error or misinterpretation.\n",
            "  FutureWarning\n"
          ]
        },
        {
          "output_type": "execute_result",
          "data": {
            "text/plain": [
              "<matplotlib.axes._subplots.AxesSubplot at 0x7fdb23a2a350>"
            ]
          },
          "metadata": {},
          "execution_count": 13
        },
        {
          "output_type": "display_data",
          "data": {
            "text/plain": [
              "<Figure size 432x288 with 1 Axes>"
            ],
            "image/png": "[encoded data removed]"
          },
          "metadata": {
            "needs_background": "light"
          }
        }
      ]
    },
    {
      "cell_type": "markdown",
      "source": [
        "### Remove Punctuations"
      ],
      "metadata": {
        "id": "KcqOJnY7JcJD"
      }
    },
    {
      "cell_type": "code",
      "source": [
        "import string\n",
        "string.punctuation\n",
        "\n",
        "def remove_punctuation(text):\n",
        "  without_punctuation =\"\".join([i for i in text if i not in string.punctuation])\n",
        "  return without_punctuation\n",
        "\n",
        "# train_df['text_without_pun']= train_df['text'].apply(lambda x:remove_punctuation(x))\n",
        "# train_df.head()"
      ],
      "metadata": {
        "id": "NC1OC3PGGx5l"
      },
      "execution_count": 14,
      "outputs": []
    },
    {
      "cell_type": "markdown",
      "source": [
        "### Remove Noise\n",
        "which include :\n",
        "- Links\n",
        "- HTML tags\n",
        "- numbers"
      ],
      "metadata": {
        "id": "b4192mih6oIc"
      }
    },
    {
      "cell_type": "code",
      "source": [
        "import re\n",
        "def remove_noise(text):\n",
        "  url = re.compile(r\"https?://\\S+|www\\.\\S+\")\n",
        "  tag = re.compile(r'<.*?>')\n",
        "  nums = re.compile(r'\\d+')\n",
        "  clean_text = url.sub(r'',text)\n",
        "  clean_text = tag.sub(r'',clean_text)\n",
        "  clean_text = nums.sub(r'',clean_text)\n",
        "  return clean_text\n",
        "# train_df[\"text_without_noise\"] = train_df[\"text_without_pun\"].apply(lambda x: remove_noise(x))\n",
        "# train_df[\"text_without_noise\"]"
      ],
      "metadata": {
        "id": "IqCwUuXB6nMt"
      },
      "execution_count": 15,
      "outputs": []
    },
    {
      "cell_type": "markdown",
      "source": [
        "### Convert To Lower Case"
      ],
      "metadata": {
        "id": "_ZrBSQLMMXqE"
      }
    },
    {
      "cell_type": "code",
      "source": [
        "def lower_case(text):\n",
        "  return text.lower()\n",
        "# train_df[\"text_without_noise\"] = train_df[\"text_without_noise\"].apply(lambda x: lower_case(x))\n",
        "# train_df.head()"
      ],
      "metadata": {
        "id": "qw4-ISJ8JZsU"
      },
      "execution_count": 16,
      "outputs": []
    },
    {
      "cell_type": "markdown",
      "source": [
        "### Tokenize Text"
      ],
      "metadata": {
        "id": "v-s2MTAsXKxR"
      }
    },
    {
      "cell_type": "code",
      "source": [
        "import re\n",
        "def tokenization(text):\n",
        "  tokens = re.split('W+',text)\n",
        "  return tokens\n",
        "# train_df[\"tokens\"] = train_df[\"text_without_pun\"].apply(lambda x: tokenization(x))\n",
        "# train_df[\"tokens\"]"
      ],
      "metadata": {
        "id": "vGziJAEiKDKH"
      },
      "execution_count": 17,
      "outputs": []
    },
    {
      "cell_type": "code",
      "source": [
        "text = \"hello from the other side\"\n",
        "word_tokenize(text)\n",
        "tokenization(text)"
      ],
      "metadata": {
        "colab": {
          "base_uri": "https://localhost:8080/"
        },
        "id": "PlYkvWDuj-p9",
        "outputId": "b0a5e256-8bc1-42cc-e176-1bed1d8e10b3"
      },
      "execution_count": 18,
      "outputs": [
        {
          "output_type": "execute_result",
          "data": {
            "text/plain": [
              "['hello from the other side']"
            ]
          },
          "metadata": {},
          "execution_count": 18
        }
      ]
    },
    {
      "cell_type": "code",
      "source": [
        "# train_df[\"tokens\"] = train_df[\"text_without_pun\"].apply(lambda x: word_tokenize(x))\n",
        "# train_df[\"tokens\"]"
      ],
      "metadata": {
        "id": "i4FVkYFKiTFy"
      },
      "execution_count": 19,
      "outputs": []
    },
    {
      "cell_type": "markdown",
      "source": [
        "### Remove Stop Words"
      ],
      "metadata": {
        "id": "h68wuiNwi7sQ"
      }
    },
    {
      "cell_type": "code",
      "source": [
        "eng_stopwords = nltk.corpus.stopwords.words('english')\n",
        "\n",
        "def remove_stopwords(text):\n",
        "  not_stopword = [i for i in text  if i not in eng_stopwords]\n",
        "  return not_stopword\n",
        "\n",
        "# train_df[\"tokens_without_SW\"] = train_df[\"tokens\"].apply(lambda x:remove_stopwords(x))\n",
        "# train_df[\"tokens_without_SW\"]"
      ],
      "metadata": {
        "id": "u_nU_w57iw82"
      },
      "execution_count": 20,
      "outputs": []
    },
    {
      "cell_type": "markdown",
      "source": [
        "### Stemming"
      ],
      "metadata": {
        "id": "cLgJVodto2th"
      }
    },
    {
      "cell_type": "code",
      "source": [
        "from nltk.stem.porter import PorterStemmer\n",
        "porter_stemmer = PorterStemmer()\n",
        "\n",
        "def stemming(text):\n",
        "  stemmed_tokens = [porter_stemmer.stem(token) for token in text]\n",
        "  return stemmed_tokens\n",
        "\n",
        "# train_df[\"stemmed_tokens\"] = train_df['tokens_without_SW'].apply(lambda x: stemming(x))"
      ],
      "metadata": {
        "id": "3Ohchk_8nsco"
      },
      "execution_count": 21,
      "outputs": []
    },
    {
      "cell_type": "markdown",
      "source": [
        "### Lemmatization "
      ],
      "metadata": {
        "id": "vv6xoLKDqAwc"
      }
    },
    {
      "cell_type": "code",
      "source": [
        "from nltk.stem import WordNetLemmatizer\n",
        "wordnet_lemmatizer = WordNetLemmatizer()\n",
        "\n",
        "def lemmatizing(text):\n",
        "  lemmatized_tokens = [wordnet_lemmatizer.lemmatize(token) for token in text]\n",
        "  return lemmatized_tokens\n",
        "\n",
        "# train_df[\"clean_tokens\"] = train_df[\"stemmed_tokens\"].apply(lambda x: lemmatizing(x))\n",
        "# train_df[\"clean_tokens\"]"
      ],
      "metadata": {
        "id": "nOcs83NsqHg_"
      },
      "execution_count": 22,
      "outputs": []
    },
    {
      "cell_type": "markdown",
      "source": [
        "## Preprocessing Function"
      ],
      "metadata": {
        "id": "N-ICySHZUbiT"
      }
    },
    {
      "cell_type": "code",
      "source": [
        "def preprocessing_data(text):\n",
        "  lower_text = lower_case(remove_noise(remove_punctuation(text)))\n",
        "  tokens = lemmatizing(stemming(remove_stopwords(word_tokenize(lower_text))))\n",
        "  return tokens"
      ],
      "metadata": {
        "id": "Q0ti7FkMUa92"
      },
      "execution_count": 23,
      "outputs": []
    },
    {
      "cell_type": "code",
      "source": [
        "train_df[\"tokens\"] = train_df[\"text\"].apply(lambda x:preprocessing_data(x))\n",
        "test_df[\"tokens\"] = test_df[\"text\"].apply(lambda x:preprocessing_data(x))\n",
        "train_df[\"tokens\"]"
      ],
      "metadata": {
        "colab": {
          "base_uri": "https://localhost:8080/"
        },
        "id": "z6JLrnYzUa4y",
        "outputId": "f33fbb34-b73e-4516-f109-4290d4f83887"
      },
      "execution_count": 24,
      "outputs": [
        {
          "output_type": "execute_result",
          "data": {
            "text/plain": [
              "0        [deed, reason, earthquak, may, allah, forgiv, u]\n",
              "1            [forest, fire, near, la, rong, sask, canada]\n",
              "2       [resid, ask, shelter, place, notifi, offic, ev...\n",
              "3       [peopl, receiv, wildfir, evacu, order, califor...\n",
              "4       [got, sent, photo, rubi, alaska, smoke, wildfi...\n",
              "                              ...                        \n",
              "7608    [two, giant, crane, hold, bridg, collaps, near...\n",
              "7609    [ariaahrari, thetawniest, control, wild, fire,...\n",
              "7610           [utckm, volcano, hawaii, httptcozdtoydebj]\n",
              "7611    [polic, investig, ebik, collid, car, littl, po...\n",
              "7612    [latest, home, raze, northern, california, wil...\n",
              "Name: tokens, Length: 7613, dtype: object"
            ]
          },
          "metadata": {},
          "execution_count": 24
        }
      ]
    },
    {
      "cell_type": "markdown",
      "source": [
        "## Spliting Data"
      ],
      "metadata": {
        "id": "k1qLUTQVmjrO"
      }
    },
    {
      "cell_type": "code",
      "source": [
        "from sklearn.model_selection import train_test_split\n",
        "features = train_df['tokens']\n",
        "label = train_df['target']\n",
        "x_train, x_val, y_train, y_val = train_test_split(features,label,shuffle = True,test_size=0.2,random_state=42)"
      ],
      "metadata": {
        "id": "JrmRPH2cmi1W"
      },
      "execution_count": 33,
      "outputs": []
    },
    {
      "cell_type": "markdown",
      "source": [
        "## Bag Of Words BoW"
      ],
      "metadata": {
        "id": "NshuO3tsl5dg"
      }
    },
    {
      "cell_type": "code",
      "source": [
        "from tensorflow.keras.preprocessing.text import text_to_word_sequence\n",
        "from tensorflow.keras.preprocessing.text import Tokenizer \n",
        "tok = Tokenizer(num_words=2000, oov_token='UNK')\n",
        "tok.fit_on_texts(x_train)\n",
        "x_train_bow = tok.texts_to_matrix(x_train)\n",
        "x_val_bow = tok.texts_to_matrix(x_val)\n",
        "x_train_bow"
      ],
      "metadata": {
        "colab": {
          "base_uri": "https://localhost:8080/"
        },
        "id": "AFXHRhltl4nt",
        "outputId": "3d93596b-3cfb-4644-a9cd-24105b09d9db"
      },
      "execution_count": 46,
      "outputs": [
        {
          "output_type": "execute_result",
          "data": {
            "text/plain": [
              "array([[0., 1., 0., ..., 0., 0., 0.],\n",
              "       [0., 1., 0., ..., 0., 0., 0.],\n",
              "       [0., 1., 0., ..., 0., 0., 0.],\n",
              "       ...,\n",
              "       [0., 1., 0., ..., 0., 0., 0.],\n",
              "       [0., 1., 0., ..., 0., 0., 0.],\n",
              "       [0., 1., 0., ..., 0., 0., 0.]])"
            ]
          },
          "metadata": {},
          "execution_count": 46
        }
      ]
    },
    {
      "cell_type": "code",
      "source": [
        "print(\"Train Shape = \",x_train_bow.shape)\n",
        "print(\"Val Shape = \",x_val_bow.shape)"
      ],
      "metadata": {
        "colab": {
          "base_uri": "https://localhost:8080/"
        },
        "id": "pWAd3R_4z21V",
        "outputId": "a530308c-817b-4b03-b82b-051b3ba64cec"
      },
      "execution_count": 27,
      "outputs": [
        {
          "output_type": "stream",
          "name": "stdout",
          "text": [
            "Train Shape =  (6090, 1000)\n",
            "Val Shape =  (1523, 1000)\n"
          ]
        }
      ]
    },
    {
      "cell_type": "markdown",
      "source": [
        "### TF/IDF"
      ],
      "metadata": {
        "id": "BeccXUZd2rY2"
      }
    },
    {
      "cell_type": "code",
      "source": [
        "tok.fit_on_texts(x_train)\n",
        "x_train_seq = tok.texts_to_sequences(x_train)\n",
        "x_val_seq = tok.texts_to_sequences(x_val)\n",
        "x_train_seq"
      ],
      "metadata": {
        "colab": {
          "base_uri": "https://localhost:8080/"
        },
        "id": "wEZj5kGXF9SN",
        "outputId": "d8c5c8dd-3016-4efc-ad78-d5d0fd5a4ee7"
      },
      "execution_count": 69,
      "outputs": [
        {
          "output_type": "execute_result",
          "data": {
            "text/plain": [
              "[[1, 1, 1, 75, 84, 187, 8, 78, 1012, 231, 1551, 1, 1],\n",
              " [1, 1, 1, 484, 1277, 1, 1, 1, 341, 127, 1],\n",
              " [342, 1, 1, 1, 1552, 1553, 7, 1013, 354, 110, 1403, 258, 5, 73, 1],\n",
              " [602, 1088, 355, 808, 323, 867, 249, 1, 1173, 1],\n",
              " [1787, 419, 374, 5, 304, 396, 1788, 1, 1],\n",
              " [259, 540, 136, 116, 232, 61, 142, 33, 1],\n",
              " [1, 1, 21, 260, 100, 809, 1, 1278, 1],\n",
              " [1, 188, 1, 20, 1554, 1, 1, 758, 632, 61, 868, 1],\n",
              " [1, 485, 420, 343, 23, 869, 571, 1],\n",
              " [1, 4, 147, 1, 603, 658, 1, 870, 83, 74, 421],\n",
              " [13, 759, 223, 1, 290, 143, 1555, 1, 422],\n",
              " [1, 1556, 1, 61, 61, 1557, 1, 375, 1089, 200, 1174, 1],\n",
              " [1279, 939, 1175, 1789, 1, 397, 1],\n",
              " [1, 1, 871, 356, 1280, 1014, 486, 1, 119, 96, 487, 518, 1],\n",
              " [189, 28, 137, 398, 1, 32, 305, 760, 423, 1, 1, 1],\n",
              " [1, 572, 573, 150, 376, 7, 67, 1090, 1],\n",
              " [1, 1, 725, 190, 151, 182, 761, 1091, 1, 138, 4, 96, 128, 424],\n",
              " [183, 1, 115, 1, 1, 9, 1],\n",
              " [124, 324, 188, 91, 1, 152, 260, 269, 1558, 1],\n",
              " [1, 1, 1, 1, 940, 1, 940, 1559, 1, 1, 1, 1],\n",
              " [872, 79, 1790, 11, 488],\n",
              " [62, 1, 1560, 233, 128, 1, 201, 161, 1791, 291, 1561, 11, 153],\n",
              " [28, 270, 120, 201, 489, 1, 292, 250, 112, 139, 1, 357],\n",
              " [1, 93, 213, 52, 258, 1, 80, 488],\n",
              " [1, 36, 7, 195, 1, 1, 4, 810, 63],\n",
              " [1, 1562, 38, 358, 214, 659, 1563, 1, 18, 202, 97, 425, 1092, 144, 1563],\n",
              " [1, 173, 123, 3],\n",
              " [1, 426, 293, 604, 1404],\n",
              " [1405, 1, 154, 294, 10, 398, 234, 1093, 203, 5, 541, 140, 1, 573, 23, 18],\n",
              " [1, 399, 269],\n",
              " [605, 1, 62, 235, 606, 32, 1, 32, 1406, 306, 1, 1],\n",
              " [241, 1554, 325, 61, 61, 1015, 22, 241, 108, 1176, 1792, 1, 1],\n",
              " [1, 355, 1, 1793, 726, 941, 811, 1, 1, 1, 1, 1, 1],\n",
              " [30, 1],\n",
              " [1, 74, 1, 359, 942, 574, 445, 1, 377, 542, 14, 690],\n",
              " [7, 279, 633, 94, 1407, 279, 123, 139, 242, 1016, 446, 271, 812, 1, 9, 144],\n",
              " [1, 762, 150, 38, 326, 1281, 1, 1],\n",
              " [1, 1, 1, 307, 813],\n",
              " [64, 1, 204, 236, 1, 447, 1, 660, 1, 1],\n",
              " [1794, 461, 661, 873, 1, 661, 873, 448, 1564, 261, 251, 1],\n",
              " [46, 19, 1, 1014, 378, 3, 542, 1795, 215, 871, 1, 1, 1, 1],\n",
              " [1, 34, 4, 262],\n",
              " [1177, 67, 1, 191, 575, 202, 662, 1565, 1, 519, 38, 814, 1, 1],\n",
              " [1094, 196, 95, 280, 50, 1, 691, 1],\n",
              " [1, 1282, 663, 20, 164, 1178, 1, 1, 1, 1, 1566],\n",
              " [1, 692, 576, 197, 1],\n",
              " [308, 1796, 25, 543, 427, 57, 940, 237, 1, 176, 1],\n",
              " [224, 58, 1, 281, 1, 1408, 1, 263, 1, 1, 85, 693, 449, 943, 1797, 1],\n",
              " [4, 129, 694],\n",
              " [1, 1, 1, 577, 80, 1, 1, 293, 695],\n",
              " [173, 10, 763, 165, 31, 15, 101, 50, 490, 944, 326, 45, 166, 282, 764],\n",
              " [1, 815, 205, 1017, 1018, 1],\n",
              " [1798, 428, 1019, 177, 117, 664, 101, 491, 544, 665, 1567],\n",
              " [1568, 379, 461, 874, 1095, 1, 606, 875, 1, 1, 1, 1],\n",
              " [1, 1, 1409, 545, 816, 520, 380],\n",
              " [1, 381, 20, 1283, 1, 1, 1, 817, 262, 113, 111, 1179, 5, 661, 1556],\n",
              " [666, 696, 667, 462, 144, 400, 401, 1, 401],\n",
              " [121, 67, 264, 578, 283, 26, 145, 327, 121, 1410],\n",
              " [198, 1799, 1, 1569, 1180, 727, 198, 1411, 817, 1],\n",
              " [429, 1, 206, 344, 728, 109, 47, 1, 450, 1, 1],\n",
              " [3, 492, 39, 876, 1181, 877, 1570, 252, 1800, 1571, 726, 1, 1, 61, 1],\n",
              " [225, 226, 430, 309, 37, 116, 1801, 61, 1],\n",
              " [207, 690, 6, 17, 697, 1, 272, 146, 1, 1, 1, 18, 1],\n",
              " [1, 1, 66, 1, 120],\n",
              " [1, 147, 65, 1, 607, 1412, 95, 431, 463, 1, 154],\n",
              " [29, 493, 1182, 1, 98, 1, 1, 375, 579, 878, 1, 199, 382, 1],\n",
              " [52, 1, 1183, 1],\n",
              " [447, 328, 383, 3, 698, 148, 42, 1, 1020, 18, 1],\n",
              " [608, 329, 167, 494, 48, 168, 81, 8, 1802, 608, 608, 608, 1803],\n",
              " [1, 546, 50, 184, 729, 15, 425, 124, 1, 280, 609, 1],\n",
              " [2, 68, 16, 1, 1, 634, 1572, 495, 879],\n",
              " [1787, 419, 374, 1091, 304, 396, 1788, 1, 1],\n",
              " [2, 68, 16, 1, 1, 1, 1, 1, 1789, 72, 1, 1],\n",
              " [1284, 635, 1021, 1804, 879, 699, 1, 1],\n",
              " [33, 547, 169, 33, 323, 30, 295, 169, 765, 1],\n",
              " [1805, 496, 1022, 1573, 1, 284, 464, 45],\n",
              " [1, 178, 12, 818, 402, 273, 360, 548, 766, 374, 216, 819, 213],\n",
              " [11, 141, 217, 24],\n",
              " [1, 1, 1, 345, 880, 1, 1],\n",
              " [1, 945, 1],\n",
              " [451, 1023, 208, 1574, 1],\n",
              " [11, 1, 485, 1, 1096, 549, 946, 881, 1, 9, 1],\n",
              " [1, 1, 63, 203],\n",
              " [356, 203, 758, 36, 25, 59],\n",
              " [381, 580, 767, 305, 191, 84, 1184, 1575, 1, 767, 1],\n",
              " [1, 1, 1, 1, 578, 310, 452, 1, 1, 9, 1],\n",
              " [445, 4, 146, 17, 22, 820, 196, 1],\n",
              " [1185, 242, 1, 1, 1, 1576, 1185, 1],\n",
              " [1, 20, 726, 1, 285, 311, 93, 636, 312, 1, 1],\n",
              " [1, 1806, 453, 821, 1024, 192, 768, 150, 43, 1807, 610, 25, 1],\n",
              " [1, 14, 1, 1, 356, 637, 730],\n",
              " [57, 1097, 4, 1, 27, 1808, 173, 611, 1, 1],\n",
              " [196, 131, 106, 1, 1413, 296, 69, 1, 1, 1, 196, 490, 1, 1],\n",
              " [1, 1, 149, 8],\n",
              " [297, 330, 1809, 120, 1, 1, 1403, 106, 1, 1, 1, 1285, 465, 384, 213, 1],\n",
              " [91, 1, 1025, 1, 361, 497, 346, 60, 151, 76, 7, 403],\n",
              " [385, 141, 92, 66, 466],\n",
              " [1, 432, 1, 43, 1, 1810, 243, 273, 1, 1, 1286, 1],\n",
              " [660, 1, 12, 668, 669, 313, 660, 154, 386, 179, 1414, 550, 1],\n",
              " [1, 1287, 1, 1, 51, 1, 1],\n",
              " [1, 1, 551, 296, 882, 142, 1, 947, 218, 1415, 1288, 1, 1],\n",
              " [40, 1098, 453, 180, 36, 1, 612, 578],\n",
              " [1, 1, 1026, 1, 948, 1, 1, 1, 253, 54, 95, 27],\n",
              " [1, 1, 1, 669, 387, 162, 949, 62, 231, 84, 187, 102, 1],\n",
              " [451, 51, 286, 1, 1577, 1, 1],\n",
              " [219, 383, 185, 10, 254, 493, 433, 325, 97, 362, 822, 454, 137, 1],\n",
              " [46, 139, 543, 1, 1, 423, 498, 1559, 102, 226],\n",
              " [731, 144, 104, 131, 1, 141, 1, 1],\n",
              " [1, 1289, 7, 1],\n",
              " [1, 170, 326, 1416, 1, 700, 8, 117, 636, 44, 467, 227, 950],\n",
              " [1, 1, 363],\n",
              " [48, 168, 19, 255, 364, 404, 331, 1],\n",
              " [1, 1, 65, 1, 1, 1811, 72, 1],\n",
              " [342, 434, 279, 1, 123, 1, 9, 1],\n",
              " [142, 951, 1, 56, 30, 1, 3, 1],\n",
              " [1, 27, 405, 154, 109, 1],\n",
              " [1, 217, 24, 103, 1],\n",
              " [1, 1578, 59, 184],\n",
              " [388, 193, 581, 499, 1, 1, 1288, 1, 1579, 1290, 99, 1579, 1, 1],\n",
              " [1, 14, 314, 1, 1027, 1],\n",
              " [330, 1812, 1099, 701, 637, 883, 701, 2, 884, 1, 1, 419],\n",
              " [173, 365, 611, 166, 122, 1813, 166, 1, 2, 1814, 1019, 1806, 176, 1],\n",
              " [406, 552, 1417, 19, 132, 20, 1, 1, 406],\n",
              " [1, 1, 1418, 546, 298, 77, 299, 1413, 1],\n",
              " [362, 286, 86, 1815, 32, 274, 1419, 823, 347, 18],\n",
              " [1, 1100, 1816, 638, 106, 1186, 1, 1291, 420, 1100, 1816, 113, 1817, 176],\n",
              " [1, 427, 127, 366, 1, 613, 1, 1, 1, 1],\n",
              " [1, 1, 265, 1, 1818, 1, 228, 421, 37, 382, 1, 1],\n",
              " [521, 18, 702, 238, 300, 85, 703, 639, 455, 1],\n",
              " [1, 1, 614, 287],\n",
              " [732, 155, 1, 1580],\n",
              " [1420, 125, 1421, 769, 1],\n",
              " [522, 74, 1, 885, 78, 359, 1],\n",
              " [1, 1, 7],\n",
              " [1, 79],\n",
              " [1, 11, 103, 2],\n",
              " [488, 1, 770, 166, 886, 197, 228, 367, 156, 36, 144, 1],\n",
              " [1, 150, 2, 1289, 1581, 357],\n",
              " [1, 1, 92, 312, 1187, 3, 138, 1188, 1, 39, 615, 1, 9, 1],\n",
              " [153, 380, 1819, 1, 1, 422],\n",
              " [1, 546, 155],\n",
              " [1, 1, 1, 500, 1, 1, 1820, 40, 1292, 1],\n",
              " [425, 72, 1],\n",
              " [1, 1582, 188, 545, 164, 1028, 640, 397, 1],\n",
              " [146, 771, 87, 501, 299, 553, 220, 108, 133, 616, 1, 456, 115],\n",
              " [36, 354],\n",
              " [952, 1422, 1821, 29, 2, 1189, 1, 728, 170, 47, 468, 1, 1, 332],\n",
              " [1, 145, 554, 1293, 1583, 69, 70, 102, 638, 377, 261, 182, 1],\n",
              " [10, 697, 221, 1, 1, 1423],\n",
              " [1, 732, 1, 5, 1, 1, 144, 772, 731, 144, 1, 1, 72, 1],\n",
              " [314, 1, 1, 1],\n",
              " [20, 368, 164, 635, 1, 1, 882, 1, 1, 9, 1],\n",
              " [46, 315, 110, 328, 93, 1101, 344, 1, 469, 12],\n",
              " [773, 1822, 243, 1584, 1, 293, 88, 1],\n",
              " [1190, 1, 582, 407, 1191, 18, 704, 1, 198],\n",
              " [41, 62, 1, 1, 161, 316, 1, 1, 1823, 1192, 1, 1],\n",
              " [1193, 1, 1, 54],\n",
              " [953, 1824, 486, 824, 705, 502, 1, 1, 1, 1, 199, 85, 1424, 129, 1, 263],\n",
              " [269, 1, 733, 468, 1102, 301],\n",
              " [1, 272, 572, 16, 1585, 1, 1103, 880, 171, 54],\n",
              " [1194, 408, 58, 305, 1104, 284],\n",
              " [1195, 1, 457, 150, 555, 1091, 1825, 1, 1, 1029, 13, 1, 130, 1],\n",
              " [73, 1, 1, 110, 1, 110, 1, 263, 1826, 1],\n",
              " [409, 199, 341, 1425, 74, 333, 199, 428, 1586, 1587, 1588, 313],\n",
              " [1, 354, 1, 374, 1827, 556, 134, 1, 1, 1196, 1, 1, 1, 1, 1197],\n",
              " [1589, 223, 1, 290, 143, 1828, 1],\n",
              " [954, 388, 1590, 4, 206, 53, 1829, 35, 67, 499, 215, 195, 1830, 144, 1416],\n",
              " [1, 194, 1, 10, 369, 1030, 1, 1, 262, 1, 1],\n",
              " [271, 195, 557, 1, 166, 3, 229, 634, 2, 3, 229, 166, 118, 1031],\n",
              " [1, 206, 523, 361, 1, 1, 1, 229, 3],\n",
              " [734, 1831, 1, 1, 120, 1405, 7, 29, 118, 52, 1, 466, 1, 1294],\n",
              " [1, 1, 21, 1591, 1028, 27, 100, 576],\n",
              " [1, 347, 122, 252, 65, 285, 122, 1198, 1832, 955, 1, 1295, 45, 1, 617],\n",
              " [88, 120, 1, 641, 202, 1, 1833, 324, 489, 283],\n",
              " [503, 300, 1, 16, 670, 21, 1591, 575, 1],\n",
              " [1, 1, 1105, 3, 344, 1, 266, 109, 698, 1, 1, 1],\n",
              " [774, 48, 8, 1, 1426, 51, 19, 317, 504, 1, 1],\n",
              " [141, 1296, 65, 101, 71, 38, 1, 260, 120],\n",
              " [825, 55, 458, 951, 47, 1, 1, 1],\n",
              " [950, 1, 89, 389, 1, 34, 1199, 1, 697],\n",
              " [121, 1032, 1, 40, 17, 22, 1, 1032, 1, 234, 1, 572],\n",
              " [826, 256, 583, 1],\n",
              " [6, 956, 316, 770, 361, 470, 618, 390, 827, 11, 1200, 1],\n",
              " [345, 775, 1, 9, 1, 1, 450, 1],\n",
              " [1, 381, 243, 1297, 1834, 102],\n",
              " [1030, 79, 1, 1, 378, 1, 1],\n",
              " [1, 884, 769, 871, 356, 498, 79, 1, 354, 1, 1427, 1],\n",
              " [198, 370, 735, 174, 318, 1, 319, 435, 1],\n",
              " [65, 619, 1, 363, 244, 486, 1],\n",
              " [70, 493, 174, 244, 642, 70, 24, 1, 302, 1, 1592, 1, 643],\n",
              " [1, 1, 104, 1199, 887, 209, 114, 454, 1, 1, 1, 1, 176],\n",
              " [671, 4, 1835, 1, 1, 269, 768, 52, 256, 96, 1, 730],\n",
              " [26, 1, 233, 584, 1, 1836, 65, 320],\n",
              " [29, 2, 27, 957, 501, 888, 1],\n",
              " [73, 1, 1428, 185, 137, 889, 254, 1, 1, 176],\n",
              " [1, 499, 34, 706, 332],\n",
              " [736, 28, 200, 1593, 345, 281, 726, 133, 1033, 101, 1, 272, 1429, 1594, 1],\n",
              " [1, 303, 1, 451, 958, 737, 1595, 80, 523, 77, 1, 1, 126, 1],\n",
              " [224, 200, 164, 1298, 375, 61, 1837, 1, 1],\n",
              " [1, 233, 189, 391, 410, 1, 324, 157, 505, 1596],\n",
              " [427, 12, 249, 644, 436, 1, 1],\n",
              " [506, 524, 95, 828, 431, 959],\n",
              " [1, 1, 426, 1838, 1839],\n",
              " [1, 645, 3, 1],\n",
              " [362, 671, 7, 378, 1, 29, 2, 1, 707, 1839, 7, 452, 829, 1840, 1, 1841],\n",
              " [210, 952, 103, 294],\n",
              " [1, 245, 134, 1, 245, 134, 890, 1],\n",
              " [1, 1, 1430, 15, 50, 156, 107, 101, 38, 891, 1, 1, 1431],\n",
              " [1, 1, 1, 1, 319, 1842, 209, 960, 1, 174, 32, 309],\n",
              " [1, 1, 6, 544, 390, 544, 151, 1, 1432],\n",
              " [318, 1299, 525, 632, 1, 221, 135, 1, 1],\n",
              " [1, 1, 1597, 131, 1, 1, 768, 1201, 270, 301, 816, 1, 1, 1],\n",
              " [64, 830, 1034, 507, 346, 60, 548, 32, 1],\n",
              " [448, 1, 73, 1, 1, 304, 672, 173, 267, 1, 892, 138, 697, 5, 620],\n",
              " [150, 109, 1],\n",
              " [1, 15, 1, 1, 578, 1],\n",
              " [1, 646, 1, 1, 5, 102, 1106, 1, 1, 47, 1],\n",
              " [471, 196, 1, 196, 437, 280, 4, 1, 158, 1],\n",
              " [708, 1, 831, 348, 231, 831, 152, 887, 1, 831, 462, 34, 1, 1, 1],\n",
              " [1, 14, 1, 4, 1, 419, 558],\n",
              " [1, 1, 238, 300],\n",
              " [738, 1107, 146, 153, 832, 67, 426, 211, 893, 332, 156, 182, 296],\n",
              " [1108, 1, 452, 1, 1, 47, 1, 1, 1, 392, 28, 129, 91, 367, 1],\n",
              " [1, 1, 1, 961, 4, 1573, 585, 1, 1],\n",
              " [776, 453, 1430, 962, 468, 281, 165, 769, 403, 894, 212, 316],\n",
              " [1, 101, 371, 544, 159, 1, 411, 1, 1, 1, 1, 140],\n",
              " [1, 37, 1, 1, 519, 4, 128, 344, 507, 1, 1, 218],\n",
              " [1, 739, 1035, 1843, 1, 777, 1187, 82, 47, 1, 1],\n",
              " [146, 771, 87, 501, 299, 553, 220, 108, 133, 616, 1, 456, 115],\n",
              " [114, 963, 1, 7, 66, 761, 1, 231, 94, 5, 1, 618, 1],\n",
              " [39, 42, 581, 275, 127, 117, 32, 1, 1, 1],\n",
              " [545, 19, 887, 833, 1844, 62, 8, 122, 1202, 424, 1845, 1],\n",
              " [1, 1, 151, 709, 832, 1, 1, 1, 106],\n",
              " [101, 292, 1300, 834, 1, 1, 1, 1, 130, 1],\n",
              " [1, 1, 1090, 1, 1, 23, 237, 1846, 67, 85, 1, 491, 1, 33, 1203, 942, 1],\n",
              " [647, 586, 81, 1109, 895, 648, 1, 1],\n",
              " [1, 15, 701, 1433, 6, 358, 276, 1434, 103],\n",
              " [1598, 130, 1, 1, 1, 495, 1847, 1, 1, 9, 1],\n",
              " [1, 88, 559, 1110],\n",
              " [1, 896, 6, 52, 288, 1],\n",
              " [1, 1, 165, 302, 1435, 118, 1, 1111, 1, 1, 246, 778, 1],\n",
              " [1, 1, 412, 139, 289, 1036, 191, 1037, 1],\n",
              " [549, 17, 618, 99, 611, 42, 649, 1, 731, 1599, 1],\n",
              " [964, 1, 1848, 1600, 87, 1, 1],\n",
              " [10, 222, 1, 364, 1, 579, 1204, 216, 1, 1],\n",
              " [1, 619, 161, 1, 1, 65, 320, 1, 1, 1, 1, 1, 1436],\n",
              " [1, 80, 1, 1437, 1, 365, 453],\n",
              " [1, 263, 1, 897, 1, 79, 1, 779, 262, 1, 1, 957],\n",
              " [1, 1, 119, 96],\n",
              " [307, 410, 1, 489, 1, 1, 1, 1],\n",
              " [1, 559, 1],\n",
              " [217, 24, 4, 740, 1],\n",
              " [708, 1, 831, 462, 526, 231, 1280, 328, 179, 423, 1],\n",
              " [286, 95, 1112, 365, 1113, 270],\n",
              " [17, 22, 388, 898, 1],\n",
              " [965, 70, 508, 1849, 1038, 393, 1],\n",
              " [1, 1, 1, 1591, 216, 113, 1, 292, 1, 1],\n",
              " [1, 1, 966, 1, 22, 1601, 1, 1, 1, 1, 346, 2, 60],\n",
              " [1, 14, 1, 127, 1, 1, 1, 1],\n",
              " [334, 587, 1],\n",
              " [736, 188, 224, 200, 164, 1, 61],\n",
              " [876, 39, 1429, 878, 472, 35, 53, 1],\n",
              " [730, 297, 1, 198, 1],\n",
              " [1, 731, 64, 1421, 54, 769, 1],\n",
              " [1, 1, 1, 1409, 1, 241, 899, 1],\n",
              " [1, 320, 335],\n",
              " [21, 1, 122, 967, 366, 503, 3, 1602, 263, 1, 9, 68],\n",
              " [1, 202, 163, 1],\n",
              " [15, 4, 527, 741, 63, 1, 560, 54, 1, 588, 528],\n",
              " [1, 1205, 1, 1, 161, 1, 1, 1, 1030, 1, 1, 22],\n",
              " [1, 879, 319, 17, 1, 1, 268, 1, 1],\n",
              " [33, 547, 169, 33, 323, 30, 295, 169, 765, 1],\n",
              " [1, 1, 1, 287, 1, 38, 358, 150, 1, 816, 1],\n",
              " [1, 1, 104, 1199, 887, 209, 114, 1],\n",
              " [835, 411, 561, 44, 900, 438, 1039, 349, 555, 35, 1040, 126, 114, 1],\n",
              " [116, 589, 225, 226, 521, 430, 132, 232, 1114, 1],\n",
              " [1, 1, 52, 4, 202, 90, 1, 1],\n",
              " [210, 1, 519, 1603, 944, 376, 398, 156, 960, 227, 18, 51, 1301],\n",
              " [95, 371, 448, 1, 73, 1, 1, 308, 1821, 1, 1, 1, 1, 1041, 1, 1, 1, 138, 1],\n",
              " [1, 408, 58, 1, 1025, 263, 1115, 1278, 673, 13, 54, 39, 1],\n",
              " [836, 1604, 1042, 473, 1302, 447, 1605, 1, 1, 1, 1, 837, 879, 1],\n",
              " [1303, 114, 21, 118, 1, 1, 47, 100, 281, 1850, 1438, 1851, 1, 1],\n",
              " [1, 439, 1304, 6, 14, 132, 140, 1, 1, 82, 4, 47, 1],\n",
              " [1, 901, 557, 1852, 8, 590, 413, 11, 1, 494, 1],\n",
              " [1, 1, 1853, 130, 1606, 902, 1043, 739, 1],\n",
              " [1183, 194, 40, 1, 903, 1, 551, 1, 1808],\n",
              " [838, 311, 63, 51, 839, 1, 1854, 38, 585, 1],\n",
              " [405, 365, 1439, 1, 184, 1855, 1, 1, 1],\n",
              " [1, 1, 1, 1, 1, 17, 22, 389, 44, 1182],\n",
              " [145, 1, 1, 292, 164, 1, 1, 1, 9, 1],\n",
              " [188, 1, 54, 1, 1, 1, 68, 489, 1, 57, 674, 213],\n",
              " [4, 135, 335, 1044, 1, 1],\n",
              " [1, 1, 301, 1305, 1306, 199, 1, 1, 92, 139, 1, 1],\n",
              " [193, 440, 529, 1, 579, 1, 1, 1, 1, 1, 1, 1],\n",
              " [1045, 406, 552, 1206, 1607, 1417, 953, 486, 38, 1, 1, 485, 1, 1],\n",
              " [279, 318, 1307, 1, 1608, 31, 403, 1, 1, 92, 554, 110, 1, 455, 1609],\n",
              " [648, 1, 51, 63, 35, 83, 1],\n",
              " [66, 1, 1, 1440, 37, 1, 161, 22, 1, 742, 164, 1, 1, 1],\n",
              " [509, 12, 1, 118, 1, 505, 1, 904, 9, 1, 90, 245, 1],\n",
              " [62, 63, 67, 968, 650, 761, 1, 277, 1116, 510, 780, 7, 67],\n",
              " [1, 651, 1, 55, 1441, 1, 1, 129, 1442, 1, 1],\n",
              " [705, 905, 393, 1443, 44, 1, 424, 743, 287, 20, 188, 1, 207, 58, 1, 1],\n",
              " [1, 1, 1, 940, 1, 940, 1559, 1, 1, 1],\n",
              " [189, 906, 32, 137, 305, 760, 423, 1],\n",
              " [349, 64, 159, 1, 1610, 38, 1026, 474, 95, 280, 265, 744, 1, 1, 1],\n",
              " [43, 459, 4, 435, 363, 282, 1],\n",
              " [23, 17, 1],\n",
              " [371, 336, 1, 379, 141, 1, 43, 18, 141, 304],\n",
              " [1, 1, 836, 1, 1, 1, 1, 1, 1, 1, 1, 1],\n",
              " [550, 1, 286, 1, 1117, 1308, 76, 38, 652, 159, 1],\n",
              " [196, 1, 265, 147, 885, 1, 57, 184],\n",
              " [1, 1856, 4, 155],\n",
              " [1, 2, 1444, 243, 1857, 1611, 1444, 214, 1857, 1611],\n",
              " [287, 886, 80, 140],\n",
              " [48, 168, 81, 255, 1445, 331, 1, 19, 1],\n",
              " [1, 1, 81, 1, 1612, 745],\n",
              " [1, 645, 3, 1, 309, 870, 118, 250, 112, 17],\n",
              " [1, 1, 462, 246, 302],\n",
              " [1, 315, 1, 1, 337, 1, 12, 1, 1, 1, 1, 1, 1],\n",
              " [1046, 1, 1597, 1029, 29, 2, 74, 421],\n",
              " [1, 1418, 621, 256, 1, 256, 1, 622, 1, 1418, 212, 1858, 1, 1],\n",
              " [1, 1446, 1, 1613, 270, 1, 85, 109],\n",
              " [128, 956, 1309, 1, 1, 1031, 1859, 969, 1, 1, 1118, 16, 1],\n",
              " [1860, 1, 1614, 530, 1, 1, 65, 139],\n",
              " [545, 489, 48, 8, 1, 1615, 1],\n",
              " [1, 1310, 873, 1047, 1, 1, 1, 1, 129, 1, 1, 1],\n",
              " [907, 526, 781, 42, 121, 321, 87, 1288, 1, 1],\n",
              " [1861, 492, 243, 195, 195, 431, 31, 1],\n",
              " [7, 838, 161, 1, 1, 1, 1],\n",
              " [39, 414, 1311, 634, 1312, 1048, 18, 1],\n",
              " [241, 108, 41, 1119, 67],\n",
              " [389, 33, 1, 1, 652, 159, 1, 4, 391, 362, 1, 70, 775, 1],\n",
              " [1, 1, 270, 1, 63, 122, 1, 1, 1, 1],\n",
              " [140, 34, 839, 1207, 312, 499, 369],\n",
              " [1208, 1202, 1, 768, 1, 30, 11, 1120, 1, 51, 1],\n",
              " [426, 57],\n",
              " [652, 2, 527, 1038, 390, 947, 531, 908, 91, 653, 40, 1862],\n",
              " [1, 1, 122, 1209, 69, 336, 1, 314, 35, 1, 1],\n",
              " [392, 431, 1, 638, 392, 1, 1, 397, 1203, 891, 1],\n",
              " [364, 1, 19, 1197, 48, 8, 1, 1],\n",
              " [475, 560, 1, 452, 485, 473, 560, 1, 1313, 1616],\n",
              " [1, 465, 1, 346, 524, 60, 371, 35, 1617, 192, 346, 1, 1],\n",
              " [840, 1, 144, 113, 577, 1],\n",
              " [1447, 1, 151, 662, 102],\n",
              " [1, 970, 175, 1, 1847, 1, 28, 971, 554, 1618, 54, 1],\n",
              " [725, 350, 1863],\n",
              " [155],\n",
              " [180, 1, 269, 49, 135, 17, 22, 1, 96, 604, 3],\n",
              " [1284, 635, 1021, 1804, 879, 699, 1],\n",
              " [197, 212, 1, 17, 261, 894, 542, 17, 22],\n",
              " [647, 586, 81, 1109, 895, 648, 1, 1],\n",
              " [350, 691, 1121, 1, 1, 435, 424, 1],\n",
              " [1314, 76, 98, 7, 11, 782, 1, 247, 1, 1, 24, 263, 222, 406, 552, 7, 269, 1],\n",
              " [1, 274, 833, 52, 1],\n",
              " [16, 909, 972, 23, 1864, 1049, 142, 177, 909, 972, 1122, 23, 56, 246, 1],\n",
              " [1315, 582, 407, 1191, 18, 704, 1210, 1, 1],\n",
              " [64, 830, 1034, 507, 346, 60, 548, 32, 1],\n",
              " [1, 1, 177, 1, 1316, 88, 151, 272, 106, 30],\n",
              " [1, 16, 449, 58, 1211, 666, 1, 1],\n",
              " [1, 50, 1, 1865, 329, 1, 472, 104, 56, 53],\n",
              " [198, 735, 582, 1212, 1, 1866, 704, 198, 1, 1],\n",
              " [1, 1579, 1290, 962, 1, 632, 1579, 1290, 99, 817, 274, 1619, 1, 1],\n",
              " [1, 1213, 728, 939, 1, 1620, 1, 1, 274, 1, 23, 1],\n",
              " [16, 223, 25, 126, 308, 351, 311, 257, 1317, 1],\n",
              " [841, 241, 108, 15, 49, 1050, 37, 47, 6, 970, 178, 1, 1],\n",
              " [422, 1, 737, 17, 1, 1621],\n",
              " [1, 815, 205, 1017, 1018, 1],\n",
              " [1, 155, 1],\n",
              " [589, 225, 136, 116, 279, 457, 623, 1],\n",
              " [1214, 1, 1622, 507, 134, 1, 884, 1051, 101, 29, 1448, 1123, 41, 80],\n",
              " [152, 117, 1, 1, 13, 96, 1449, 1, 152, 117, 1, 1, 82, 1],\n",
              " [1, 1, 44, 1],\n",
              " [605, 3, 127, 1623, 1, 511, 1867, 1, 173, 1124, 1, 1],\n",
              " [1125, 135, 106, 746, 1],\n",
              " [6, 250, 112, 4, 1, 214, 1, 298, 114, 1, 146],\n",
              " [1, 1, 1, 14, 89, 783, 1624],\n",
              " [968, 41, 89, 422, 476, 62, 701, 1215, 1625, 1, 1],\n",
              " [1450, 910, 1216, 447, 498, 1868, 1869, 1870, 842, 1],\n",
              " [119, 96, 1, 1, 1, 105, 562, 1, 1],\n",
              " [105, 1, 1871, 441, 563, 192, 25, 1103, 1, 1, 59, 729, 1, 1],\n",
              " [1872, 70, 8, 1626, 102],\n",
              " [1, 1, 38, 891, 1840, 899, 705, 1840, 37, 1, 1, 1434, 554, 89, 705],\n",
              " [1, 56, 1, 302, 1, 246, 1, 1, 1],\n",
              " [210, 1, 1, 1318, 80, 109, 973, 432, 398, 29, 2, 239, 14, 75, 10, 13],\n",
              " [74, 1310, 333, 7, 74, 421],\n",
              " [175, 247, 24, 624, 625],\n",
              " [1217, 1, 319, 669, 1451, 1126, 588, 89, 75, 1, 1, 1],\n",
              " [25, 59, 73, 1, 784, 25, 59, 747],\n",
              " [1, 1, 217, 24, 34],\n",
              " [1, 75, 136, 1319, 93, 56, 15, 843, 675, 518, 1],\n",
              " [1, 4, 1, 1, 1, 607, 288, 391, 1, 1],\n",
              " [20, 1, 1, 1, 375, 1, 636, 165, 1627, 1, 1],\n",
              " [1, 1, 56, 1, 184, 146, 2, 249, 738],\n",
              " [294, 613, 51, 280, 2, 294, 1873],\n",
              " [1, 385],\n",
              " [504, 654, 1013, 110, 549, 1204, 204, 26, 9, 1, 1],\n",
              " [185, 10, 254, 493, 433, 325, 97, 362, 822, 454, 137, 1, 1],\n",
              " [133, 251, 626, 287, 735, 457, 748, 1127, 291, 289, 72],\n",
              " [1, 911, 209],\n",
              " [974, 1, 671, 75, 4, 1, 912, 4],\n",
              " [1, 178, 1, 676, 173, 611, 1052, 1],\n",
              " [278, 163, 1, 38, 591, 1628, 1, 2, 471, 219, 694, 1053],\n",
              " [83, 106, 1, 1, 1, 1, 564, 1],\n",
              " [49, 173, 1025, 611, 1, 1, 1],\n",
              " [1, 20, 19, 1629, 749, 1218, 114, 92, 1],\n",
              " [57, 155, 54, 51, 1],\n",
              " [1, 12, 1874, 913, 477, 393, 1, 1612, 745, 1, 1, 1],\n",
              " [1,\n",
              "  10,\n",
              "  410,\n",
              "  441,\n",
              "  785,\n",
              "  563,\n",
              "  975,\n",
              "  646,\n",
              "  1320,\n",
              "  976,\n",
              "  192,\n",
              "  25,\n",
              "  59,\n",
              "  105,\n",
              "  1,\n",
              "  1,\n",
              "  73,\n",
              "  1],\n",
              " [638, 1128, 677, 1, 227, 261, 419],\n",
              " [49, 1, 565, 86, 88, 1, 425, 244, 1, 52, 124],\n",
              " [224, 200, 164, 188, 436, 61, 868, 436, 61, 868, 736, 1],\n",
              " [1022,\n",
              "  604,\n",
              "  14,\n",
              "  1452,\n",
              "  190,\n",
              "  1453,\n",
              "  442,\n",
              "  358,\n",
              "  227,\n",
              "  587,\n",
              "  1,\n",
              "  466,\n",
              "  1452,\n",
              "  190,\n",
              "  366,\n",
              "  1,\n",
              "  220],\n",
              " [1, 1, 777, 385],\n",
              " [20, 19, 312, 13, 636, 708, 614, 12, 5, 1, 1],\n",
              " [1863, 29, 2, 1875, 407, 1, 372, 1, 1129, 419, 1],\n",
              " [1, 1454, 1455, 1876, 64, 228, 102, 1, 673, 373, 664, 313],\n",
              " [828, 27, 193, 1, 1, 1, 1630, 1, 176, 1],\n",
              " [1, 973, 1, 1, 1456, 1, 1, 1578, 45, 130, 1, 1299, 1],\n",
              " [1, 111, 678, 1, 20, 1, 1, 1],\n",
              " [647, 586, 81, 1321, 1, 1, 1, 1, 1],\n",
              " [710, 345, 690],\n",
              " [1322, 95, 280],\n",
              " [1, 286, 1442, 1],\n",
              " [1, 1457, 3, 442, 518, 42, 1, 1, 173, 1, 611, 12],\n",
              " [914, 1, 450, 59, 639, 347, 25],\n",
              " [71, 1, 977, 1054, 1631, 1, 171, 1, 1, 833, 1877, 1, 694, 1, 1],\n",
              " [2, 68, 16, 1, 1, 1, 422, 1, 1, 808, 30, 1, 1, 1],\n",
              " [1, 1, 115, 46, 315, 1632, 1, 48, 8, 1, 915, 1],\n",
              " [727, 1633, 1, 20, 1, 1, 1, 1, 825, 474],\n",
              " [1, 1, 813, 62, 209, 528, 47, 541, 1],\n",
              " [1, 1, 1, 1, 242, 1878, 1, 1],\n",
              " [211, 85, 276, 1, 121, 1, 2, 33, 115, 725, 385],\n",
              " [478, 1052, 105, 844, 330, 244, 202, 149, 1],\n",
              " [1, 909, 972, 23, 56, 246, 302, 1, 1864, 1879, 1323, 1, 1],\n",
              " [1, 810, 399, 269],\n",
              " [15, 1, 641, 36, 345, 69, 186, 1],\n",
              " [1880, 1, 519, 1603, 288, 1, 1, 1, 509, 512, 217, 24, 6, 679, 950],\n",
              " [1634, 1881, 899, 1, 197, 117, 330, 1, 17, 22, 318, 18, 1456, 50, 1],\n",
              " [1, 519, 4, 1819, 72, 1, 7, 1, 1, 1, 1, 1],\n",
              " [10, 410, 441, 785, 563, 975, 646, 1320, 976, 192, 25, 59, 105, 1, 1],\n",
              " [46, 235, 23, 413, 328, 1, 1],\n",
              " [1, 1, 1436, 843, 1, 1, 9, 68, 231, 1324, 1],\n",
              " [1, 1454, 1455, 1876, 64, 228, 102, 1, 673, 373, 664, 313],\n",
              " [20, 64, 11, 93, 118, 72, 1882, 64, 11, 1, 19, 118, 1, 1],\n",
              " [116, 589, 225, 226, 521, 430, 132, 232, 1114, 469, 623, 1, 823, 232, 12],\n",
              " [1, 439, 75, 298, 1, 234, 2, 285, 15, 50, 41, 1044, 750],\n",
              " [478, 1052, 105, 844, 330, 244, 202, 149, 1, 1],\n",
              " [20, 19, 312, 13, 636, 708, 614, 12, 5, 1, 1, 1],\n",
              " [680, 215, 252, 672, 193, 978, 1],\n",
              " [1, 4, 161, 1, 2, 1, 1, 1883, 1, 1, 1],\n",
              " [27, 187, 8, 174, 40, 979, 74, 437, 387, 162, 949, 484, 1],\n",
              " [845, 846, 35, 53, 557, 692, 117, 97, 44],\n",
              " [820, 321, 1635, 283, 1884, 321, 751, 1030, 321, 1635, 413, 321, 1635, 1],\n",
              " [1458, 915, 155, 1],\n",
              " [76, 153, 1459, 419, 782, 1459, 76, 153, 347, 55, 180, 4, 821, 1],\n",
              " [1, 1, 25, 1],\n",
              " [1, 1, 1324, 62, 235, 437, 1885, 1, 1],\n",
              " [14, 260, 442, 1296, 1, 1],\n",
              " [1, 1, 1, 415, 297, 1, 1636, 1, 464, 1, 1, 592, 1, 473, 325, 18],\n",
              " [1, 138, 258, 620, 1637, 117, 271, 812, 1, 1],\n",
              " [1, 31, 513, 614, 1130, 1, 94, 1, 38, 574, 1, 1, 1, 1],\n",
              " [1, 655, 90, 1103, 786, 55, 1, 787, 1, 1638, 711, 783, 37, 183, 1],\n",
              " [172, 980, 847, 894, 172, 1856, 160, 479, 490, 979, 261, 1],\n",
              " [211, 1055, 23, 957, 916, 15, 28, 1, 164, 1],\n",
              " [725, 272, 141, 1, 615, 1098, 453, 460],\n",
              " [702, 238, 300, 85, 703, 639, 455, 1],\n",
              " [1, 1, 1, 1, 1, 1, 152, 1639, 1, 1, 301, 407, 1],\n",
              " [1025, 1219, 622, 1575, 1, 28, 1, 474, 1, 1023, 58, 1218, 39],\n",
              " [18, 1199, 480, 54, 1],\n",
              " [1204, 902, 499, 1640, 1325, 532, 1640, 1641, 1553, 1854, 1],\n",
              " [1, 172, 218, 944],\n",
              " [1, 7, 880, 656, 770, 620, 155, 981, 1790, 1],\n",
              " [80, 273, 360, 663, 338, 690, 6, 712, 358, 6, 93, 566],\n",
              " [504, 11, 19, 224, 506, 1886, 1, 56, 380, 1],\n",
              " [1460, 225, 573, 358, 788, 189, 28, 10, 982, 18, 1],\n",
              " [181, 32, 443, 148, 42, 99, 469, 12, 1],\n",
              " [761, 65, 413, 6, 1107, 475],\n",
              " [751, 30, 1, 248, 1, 1598, 848, 1],\n",
              " [1, 1887, 1, 107, 1],\n",
              " [1, 546, 1, 1220, 521, 39, 18],\n",
              " [264, 1326, 31, 1],\n",
              " [1, 330, 194, 111, 1, 1608, 544, 904, 881, 1, 1],\n",
              " [1, 1609, 1316, 1, 5, 1, 1, 3, 1888, 287, 271, 3, 1],\n",
              " [1, 1, 1, 1889, 603, 1056, 422, 154, 359, 894, 1, 1],\n",
              " [1, 1131, 983, 1221, 100, 87, 1, 1, 1],\n",
              " [1, 984, 47, 229, 1, 1642, 163, 1, 7, 1, 1636, 1, 211],\n",
              " [73, 1, 847, 1, 985, 848, 51, 83, 1],\n",
              " [73, 1, 61, 1, 1, 153, 1132, 834, 31, 1, 1, 1],\n",
              " [2, 68, 16, 1, 1643, 195, 1044, 528, 967, 1890, 332, 1, 5, 967, 1],\n",
              " [1, 6, 162],\n",
              " [63, 180, 1057, 593, 82, 761, 154, 41],\n",
              " [36, 272, 16, 166, 30, 1, 38, 956],\n",
              " [312, 24, 1, 1, 1891, 1133, 1043, 1],\n",
              " [1461, 1, 292, 63, 1, 420, 1, 1],\n",
              " [1, 1, 491, 1, 1, 1644, 1645, 1, 1327, 772, 727, 16],\n",
              " [451, 45, 541],\n",
              " [55, 74, 1462, 525, 345, 1222, 1, 509, 1892, 1, 1, 1, 1],\n",
              " [6, 1, 220, 2, 110, 886, 1058, 88, 124],\n",
              " [1, 1, 1134, 1893, 673, 107, 210, 1894, 1, 1, 789, 1, 1],\n",
              " [18, 89, 1],\n",
              " [594, 1, 1, 1223, 567, 1463, 101, 848, 200, 593],\n",
              " [486, 1, 216, 849, 1, 345, 281, 1, 1408, 1851, 1],\n",
              " [1, 348, 917, 588, 1, 85, 319, 310, 1, 466, 1, 319, 242, 1],\n",
              " [1, 579],\n",
              " [1, 1, 607, 1, 1035, 5, 117, 1, 17, 22, 1, 1625, 1],\n",
              " [1314, 1, 114, 98, 228, 713, 342, 744, 25, 59, 714],\n",
              " [1, 734, 1, 4, 5, 816, 29, 162, 1, 56, 1, 1, 1, 1],\n",
              " [1, 10, 410, 441, 785, 563, 975, 646, 1320, 976, 192, 25, 59, 105, 1, 1],\n",
              " [1059, 1100, 1, 1328, 18, 1, 306, 1224, 1, 960, 1, 904, 1],\n",
              " [1060, 1, 1416, 10, 1, 462, 1, 1],\n",
              " [1098, 1135, 453, 349, 1, 1, 1, 52, 626, 339, 1115],\n",
              " [1, 75, 92, 812, 1, 73, 5, 258, 1, 591, 5, 1225, 1, 1],\n",
              " [1, 15, 36, 1464, 918, 90, 60, 1, 1, 1, 320],\n",
              " [41, 1119, 152, 76, 14, 97, 256, 120, 1465],\n",
              " [78, 13, 568, 790, 1, 119, 96, 1, 78, 74, 1, 174],\n",
              " [527, 1, 1, 564, 1, 1, 1895, 376, 1, 1],\n",
              " [389, 850, 1, 1, 465, 1853, 110, 1],\n",
              " [352, 352, 15, 4, 91],\n",
              " [48, 168, 19, 255, 364, 404, 331, 1, 9, 643],\n",
              " [1, 1, 566, 1, 1289, 213, 372],\n",
              " [408, 58, 56, 113, 20, 1, 1],\n",
              " [37, 71, 67, 572, 444, 112, 60, 1],\n",
              " [896, 276, 162, 1, 159, 1061],\n",
              " [1, 11, 125, 512, 1136, 434, 1012, 231, 1, 1],\n",
              " [1, 1, 1, 297, 915, 1175, 1, 59, 1, 1054, 614, 1, 1],\n",
              " [30, 23, 98, 1437, 309, 1],\n",
              " [399, 1, 1],\n",
              " [1, 1, 775, 1646, 69, 239, 1, 17, 22, 26, 51, 1],\n",
              " [12, 97, 54, 1, 308, 152, 117, 311, 257, 1, 9, 1],\n",
              " [1, 178, 12, 818, 402, 273, 360, 548, 766, 374, 216, 819, 213],\n",
              " [1, 86, 2, 83, 1, 6, 510, 1647, 103, 151, 172, 761],\n",
              " [1, 1, 1, 1, 1896, 1, 1, 1, 1837, 161],\n",
              " [824, 207, 752, 160, 705, 1033, 1, 248, 207, 1, 355],\n",
              " [478, 84, 1648, 1, 4, 1],\n",
              " [1226, 330, 52, 656, 422, 1],\n",
              " [884, 1, 984, 340, 37, 32, 1029, 1329, 449, 5, 571, 49, 1],\n",
              " [49, 36, 1, 270, 101, 986, 607, 637, 77, 1814],\n",
              " [945, 275, 1, 114, 1, 204, 1],\n",
              " [2, 1],\n",
              " [1, 64, 1, 1, 1291, 1130, 627, 919, 7, 1649, 587],\n",
              " [1, 10, 1, 1, 238, 300, 1, 1897, 1, 1, 248, 346, 455, 1, 1],\n",
              " [1, 1466, 8, 1],\n",
              " [1062, 730, 1137, 1, 211, 779, 1055, 525, 1, 1],\n",
              " [267],\n",
              " [14, 681, 1, 1, 481, 1, 506, 1044, 1],\n",
              " [175, 247, 24, 624, 625, 175, 258, 24, 247, 148, 1063, 1],\n",
              " [334, 791, 233, 791, 1, 1, 880, 1441, 1467, 514, 1, 1],\n",
              " [21, 434, 1650, 503, 337, 1, 1, 1],\n",
              " [595, 121, 1468, 1178, 400, 1],\n",
              " [1, 1, 1, 412, 139, 289, 1036, 191, 1037, 1],\n",
              " [128, 31, 792, 145, 941, 1, 136, 10, 209, 138, 753, 1],\n",
              " [1, 1, 273, 1, 76, 7, 360],\n",
              " [1064, 239, 427, 1, 1],\n",
              " [596, 87, 1, 1, 389, 1, 1, 1, 1],\n",
              " [1, 179, 987, 1, 1, 1],\n",
              " [1, 6, 89, 1898, 1],\n",
              " [1, 47],\n",
              " [487, 79, 69, 848],\n",
              " [988, 205, 411, 579, 512, 5, 1277, 166, 654, 44, 1],\n",
              " [1, 186, 793, 1, 389, 338, 1, 1321, 1, 20, 338, 1, 920, 1, 1, 1],\n",
              " [1065, 1651, 1899, 1, 1227, 1469, 1900, 192, 25, 59, 90, 170, 448, 1, 1],\n",
              " [1, 1057, 1, 132, 1, 77, 269, 141, 2, 1, 336, 1, 1, 1],\n",
              " [1, 1, 573, 77, 1330],\n",
              " [1, 1138, 1, 579, 1901, 1],\n",
              " [707, 34, 1900, 1],\n",
              " [295, 169, 893, 10, 982, 19, 317, 11, 1, 1, 1],\n",
              " [1902, 16, 682, 408, 199, 1652, 459, 1, 58, 1],\n",
              " [1903, 22, 3, 715, 1, 1, 1],\n",
              " [117, 330, 17, 22, 1, 558, 203, 1, 1, 1, 57, 365, 716],\n",
              " [47, 121, 1, 409, 1066, 439],\n",
              " [1, 58, 1470, 216, 307, 304, 1, 1, 1, 375],\n",
              " [1331, 477, 383, 1088, 99, 355, 1],\n",
              " [1, 378, 167, 1653, 1, 1067, 110, 382, 716, 382, 1],\n",
              " [1, 1471, 107, 71, 211, 18, 28, 107, 519, 144, 565, 1228],\n",
              " [1, 220, 2, 1139, 1, 276, 147, 1, 1222, 1, 141, 124, 578, 262],\n",
              " [1332, 200, 345, 305, 1, 1654, 1655, 1, 1],\n",
              " [1904, 1, 622, 1, 187, 162, 1, 1, 11, 78, 851, 1],\n",
              " [573, 60, 466, 177, 1229, 409, 950, 1, 80],\n",
              " [1, 1412, 453, 1230],\n",
              " [1, 533, 48, 8, 255, 331, 19, 317, 1, 1],\n",
              " [1, 12, 1, 1, 1, 54, 85, 1, 1, 1, 1, 1, 34, 1, 673, 1],\n",
              " [15, 565, 1064, 28, 37, 658],\n",
              " [286, 289, 17, 22, 5, 160, 1472, 1092, 167, 7],\n",
              " [6, 1, 1, 162, 15, 14, 71, 452, 86, 82, 141, 1129],\n",
              " [75, 628, 186, 717, 651, 6, 1107, 1140, 1333],\n",
              " [57, 34, 491, 1088, 158, 92, 271, 3],\n",
              " [1, 38, 444, 112, 77, 288, 1],\n",
              " [1, 1, 584, 44, 233, 1],\n",
              " [1, 629, 47, 233, 437, 592, 1, 1, 1, 1, 754, 310, 1],\n",
              " [1, 749, 312, 1905, 1, 597, 852, 1, 1],\n",
              " [151, 160, 479],\n",
              " [1, 1, 1791, 524, 481, 584, 3, 229, 47, 38, 88, 1791],\n",
              " [1, 1, 1, 1068, 1, 1, 977, 1, 1],\n",
              " [675, 75, 1, 284, 153, 1, 1, 584, 1, 1, 1, 1, 1, 1, 1, 1],\n",
              " [1, 38, 511, 670, 99, 413, 1, 1, 1],\n",
              " [1, 177, 1, 963, 1136, 1884, 211, 529, 1230, 534, 91, 124, 1473, 91, 41, 71],\n",
              " [17, 2, 1, 338],\n",
              " [233, 141, 151, 36, 1, 322, 615, 371, 1, 1, 1, 1, 1, 1, 1474, 1, 1462],\n",
              " [41, 55, 1656, 15, 444, 112, 36, 293, 37, 91, 1, 1458, 1192, 158],\n",
              " [1, 1334, 368, 40, 1335],\n",
              " [1128, 150, 49, 109, 1657, 71, 32, 6, 14, 47, 821, 428],\n",
              " [907, 526, 781, 42, 121, 321, 87, 1475, 253, 1, 1],\n",
              " [1, 50, 1, 28, 429, 1, 1, 657, 12, 921, 234, 378, 683, 85, 385],\n",
              " [485, 1231, 163, 1, 1173, 554, 1, 420, 1],\n",
              " [92, 638, 1906, 1, 69, 236, 1, 1907, 1, 1658, 1069, 1908, 1, 1],\n",
              " [1, 1, 1, 1, 1, 1336, 343, 439, 1, 1070],\n",
              " [1, 1, 38, 91, 140, 891, 28, 1, 85, 468, 1026, 579],\n",
              " [1, 1, 1, 1909, 1634, 228, 37, 382, 1141, 1],\n",
              " [1659, 962, 70, 508, 37, 1095, 7, 27, 1],\n",
              " [654, 515, 1, 32, 1284, 51, 26, 328, 1, 1910],\n",
              " [1, 75, 1476, 1859, 532, 922, 34, 92],\n",
              " [7, 923, 1551, 39, 522, 1, 1, 1, 924, 39, 1096],\n",
              " [1, 1, 579, 1, 1],\n",
              " [1, 122, 194, 531, 1, 1660, 1, 794, 592, 1, 1, 1, 1],\n",
              " [1, 1, 480, 139, 1014, 795, 8],\n",
              " [1, 416, 83, 1, 1, 1, 1661, 19, 838, 476, 1232, 165, 1, 381, 189],\n",
              " [1, 73, 1, 581, 135, 17, 1, 71, 1662, 1, 1, 1],\n",
              " [451, 697, 925, 885, 914, 15, 50, 1645, 1, 573, 77, 451],\n",
              " [45, 784, 20, 1805, 38, 86, 324, 1663, 776, 2, 1],\n",
              " [54, 276, 1142, 1, 1844],\n",
              " [1, 1911, 593, 786, 1, 1, 813, 1, 5, 1, 1, 792, 1],\n",
              " [1, 91, 1175, 568, 305, 1, 1, 1, 1, 1],\n",
              " [779, 70, 508, 1, 343, 1, 1],\n",
              " [926, 314, 1477, 1478, 1, 1, 29, 1477, 1478, 1143, 1],\n",
              " [1, 405, 227, 270, 796, 1, 475, 1330],\n",
              " [1, 25, 59, 1, 451, 1, 141, 50],\n",
              " [219, 245, 1912, 93, 1629, 218, 1, 374, 237, 118, 529, 417, 1, 1],\n",
              " [438, 585, 243, 1337, 1, 1, 1325, 1913, 1, 79, 1],\n",
              " [1, 1, 1, 853, 1, 159, 1, 627, 275, 1, 287, 147, 1, 1, 91],\n",
              " [1, 48, 168, 739, 255, 331, 317, 93, 48, 168, 739, 255, 331, 317, 93, 1914],\n",
              " [567, 97, 7, 40, 1, 131, 732, 75, 1, 65, 1, 944],\n",
              " [219, 383, 185, 10, 254, 493, 433, 325, 97, 362, 822, 454, 137, 1],\n",
              " [358, 17, 1915, 1144, 830, 1916, 1451, 1917, 291, 1, 1915, 1, 473],\n",
              " [1, 471, 105, 253, 209, 1918, 74, 1338, 28, 1, 1],\n",
              " [370, 1, 5, 1, 1, 1, 252, 1, 1, 9, 68],\n",
              " [1, 1, 1, 28, 272, 464, 157, 1070, 1479, 114, 131],\n",
              " [1013, 19, 386, 48, 8, 266, 963, 635, 1, 1480, 12, 1, 1, 1, 386, 1],\n",
              " [29, 2, 368, 716, 47, 1],\n",
              " [296, 314, 922, 1],\n",
              " [3, 1, 279, 123, 691, 1664, 1, 1, 1],\n",
              " [837, 170, 181, 239, 378, 1339, 1047, 1, 231, 1143, 1, 1047],\n",
              " [1, 1472, 1, 111, 100, 1, 1],\n",
              " [10, 410, 441, 785, 563, 975, 646, 1320, 976, 192, 25, 59, 105, 1, 1],\n",
              " [890, 1, 1, 1, 79, 226, 93, 63, 1, 614, 1, 1],\n",
              " [56, 158, 170, 88, 15, 299, 1919, 1920, 172, 250, 112, 1, 221, 1921],\n",
              " [384, 345, 657, 440, 939, 1, 1],\n",
              " [17, 1],\n",
              " [401, 666, 696, 667, 462, 144, 400, 401, 1],\n",
              " [145, 1, 1, 919, 7, 196, 242, 421, 1],\n",
              " [178, 581, 287, 184, 635, 1, 1, 22, 1],\n",
              " [1665, 1, 882, 131, 1, 1, 1, 684, 235, 1],\n",
              " [1340, 95, 282, 429, 1, 4, 344, 124, 1, 1, 1, 583, 250, 112, 72, 1],\n",
              " [1, 1, 250, 112, 66, 4, 203, 63, 62, 31, 121],\n",
              " [15, 283],\n",
              " [73, 1, 1, 412, 482, 598, 989, 1, 191, 1037, 490, 927, 575, 990, 176],\n",
              " [329, 167, 494, 48, 168, 81, 8, 590, 143, 718, 193, 1],\n",
              " [1, 1, 1823, 1580, 1, 706, 355, 2, 177],\n",
              " [732, 318, 1666, 221, 1341, 1, 1817, 727, 1, 1, 1, 1],\n",
              " [1, 45, 223, 153, 1301, 1, 1, 1, 619, 5, 816, 1],\n",
              " [1, 1, 1, 1300, 942, 1, 454, 1922, 129, 1],\n",
              " [330, 1585, 125, 31, 103, 354, 33, 1],\n",
              " [1, 337, 1, 1, 1, 1, 1, 1, 1, 1, 1],\n",
              " [223, 399, 1, 476, 1, 1, 853, 1],\n",
              " [210, 177, 1342, 1923, 1, 1924, 1481, 103, 180, 470, 8, 1, 1],\n",
              " [1, 179, 74, 143, 1, 1, 1, 281, 81, 8],\n",
              " [62, 1925, 968, 616, 57, 285, 1, 719, 410, 151, 368, 410, 1, 211, 280],\n",
              " [1, 1, 28, 1667, 1, 734, 1, 1, 1, 1],\n",
              " [73, 1, 305, 350, 1343, 1926, 94, 1, 1, 1, 715, 1, 1],\n",
              " [854, 245, 70, 24, 1, 1],\n",
              " [67, 436, 230, 230, 387, 1, 240, 208, 752, 78, 19, 1, 122, 399],\n",
              " [1, 555, 162, 415, 54, 371, 751, 1668, 567, 1, 1482, 1],\n",
              " [169, 893, 426, 599, 139, 1593, 295, 1, 295, 1, 1, 1],\n",
              " [1, 699, 504, 1, 1448, 1, 1, 1, 797, 1, 1, 46, 1],\n",
              " [1, 229, 1, 1340, 3, 1927],\n",
              " [485, 420, 343, 23, 869, 571, 1, 420, 343, 23, 417, 1233, 1, 1],\n",
              " [1, 337, 1, 219, 564, 603, 775, 13, 584, 1, 1, 484],\n",
              " [305, 1, 991, 1216, 129, 1, 1, 710, 893, 1, 125],\n",
              " [1, 1, 1, 1, 1, 1928, 1],\n",
              " [1, 606, 577, 51, 1, 130, 1, 1],\n",
              " [2, 68, 16, 1, 1, 1234, 1, 1, 758, 60],\n",
              " [15, 101, 340, 1, 201, 340, 2, 1214, 338, 333, 182, 52, 1],\n",
              " [1, 37, 1, 202, 1, 26, 1, 87, 656, 1929],\n",
              " [1845, 16, 157, 440, 199, 408, 58, 1],\n",
              " [1142, 77, 86],\n",
              " [1, 20, 19, 886, 1, 1, 1],\n",
              " [992, 1483, 19, 1, 798, 48, 26, 1],\n",
              " [412, 482, 289, 191, 928, 1, 1, 1],\n",
              " [946, 445, 1137, 353, 312, 373, 164, 1338, 580, 1],\n",
              " [310, 1145, 1071, 898, 678, 720, 463, 516, 1],\n",
              " [1569, 1, 1, 1669, 1621, 1, 670, 131, 1, 1],\n",
              " [67, 128, 1, 1, 970, 1304, 265, 67, 61, 1],\n",
              " [286, 1, 1, 1, 100, 104, 1, 721, 44, 1344, 673, 91, 640, 1],\n",
              " [121, 303, 39, 659, 83, 908, 1280, 1, 201, 316],\n",
              " [126, 1202, 178, 1343, 1926, 94, 1, 1, 1],\n",
              " [45, 154, 79, 566],\n",
              " [1, 1930, 14, 754, 34, 109, 829],\n",
              " [1, 1670, 1, 1931, 26, 331, 255, 1445, 655, 317, 54, 1],\n",
              " [1553, 7, 1, 1, 47, 1671, 1, 1105, 1051, 1, 1],\n",
              " [194, 41, 1932, 1, 729, 2, 326],\n",
              " [1, 1418, 6, 29, 967, 1128, 1235, 349, 404, 383, 727, 93, 560, 620, 145],\n",
              " [197, 49, 89, 883, 1, 202, 929, 816, 1],\n",
              " [685, 194, 445, 1, 1666, 336, 64, 1, 221, 1341, 6, 719, 36, 679],\n",
              " [666, 696, 667, 462, 144, 400, 401, 1],\n",
              " [120, 79, 1, 1, 1, 1, 1345, 1, 1, 1],\n",
              " [412, 482, 598, 191, 928, 490, 927, 575, 990, 1, 9, 1177],\n",
              " [1, 1, 1, 1, 1, 1, 75, 227, 1876, 334, 534],\n",
              " [1, 1286, 1215, 109],\n",
              " [1836, 190],\n",
              " [1, 930, 1, 1, 1, 1036, 129, 251],\n",
              " [717, 140, 820, 1236, 22, 289, 63],\n",
              " [46, 1933, 351, 132, 1, 105, 1, 46, 1, 1933, 230, 1],\n",
              " [295, 169, 893, 10, 982, 19, 317, 11, 622, 189, 66, 1, 1, 1],\n",
              " [1672, 55, 867, 1934, 622, 245, 1, 446, 1],\n",
              " [1668, 139, 1346, 1181, 1, 372, 34, 1, 11, 606, 776, 314, 1],\n",
              " [81, 1234, 745, 913, 477, 1],\n",
              " [595, 695, 5, 99, 1234, 870, 45, 86, 2, 1026, 993, 1470, 791, 832, 1, 1],\n",
              " [1347, 1405, 65, 103, 244, 973, 124],\n",
              " [189, 1, 1, 1935, 1, 1935, 1, 1935, 397, 1, 382],\n",
              " [1936, 138, 739, 1, 138, 81, 1, 1],\n",
              " [322, 201, 1, 121, 32, 994, 18, 600, 469, 322, 884, 176, 1],\n",
              " [1, 513, 770, 1, 1],\n",
              " [1, 210, 6, 319, 1042, 194, 2, 1206, 370, 5, 407, 5, 198, 1813, 154, 684],\n",
              " [1, 799, 29, 1297, 214, 3, 970, 18, 1, 13, 697, 398],\n",
              " [43, 459, 4, 435, 363, 282, 1],\n",
              " [1, 1348, 1146, 1, 1, 544, 345, 37, 219, 1],\n",
              " [1, 1, 1, 1, 13, 535, 173, 89, 923, 1228, 227, 536],\n",
              " [83, 1],\n",
              " [23, 1134, 125, 442, 109, 50, 1],\n",
              " [906, 32, 137, 305, 760, 423, 189, 28, 137, 398, 1, 1, 1],\n",
              " [1, 721, 1, 495, 380, 1],\n",
              " [120, 4, 698, 449, 58, 5, 1484, 324, 1937, 343, 1125, 16, 1],\n",
              " [167, 410, 1, 54, 1103, 1, 715, 214, 1, 226, 324, 650],\n",
              " [146, 771, 87, 501, 299, 553, 220, 108, 133, 616, 1, 456, 115],\n",
              " [1, 1, 344, 1, 855, 97, 11, 107, 158, 1606],\n",
              " [1,\n",
              "  1,\n",
              "  5,\n",
              "  729,\n",
              "  472,\n",
              "  1938,\n",
              "  486,\n",
              "  1231,\n",
              "  715,\n",
              "  497,\n",
              "  350,\n",
              "  227,\n",
              "  1,\n",
              "  1,\n",
              "  230,\n",
              "  5,\n",
              "  617,\n",
              "  424],\n",
              " [1, 356, 110, 543, 105, 995, 1, 1, 1025, 1],\n",
              " [1, 391, 1, 393, 256, 1, 204],\n",
              " [1, 351, 1657, 64, 7, 1, 237, 1349, 1182, 1128, 127, 17, 1, 1],\n",
              " [1, 12, 1, 38, 42, 355, 1116, 684, 1189, 1, 1],\n",
              " [1, 562, 5, 1, 361, 1, 1, 1, 1, 497, 229, 3, 1, 1, 644],\n",
              " [417, 1, 42, 1, 1, 111, 1, 1, 510, 1, 1],\n",
              " [272, 1350, 190, 14, 1, 151, 1, 733, 1, 1237, 1],\n",
              " [1, 1, 72],\n",
              " [1863, 208, 63, 821, 1026, 924, 1, 1, 1, 1, 1, 1],\n",
              " [49, 334, 1351, 567, 1, 1136, 36, 1, 1673, 1],\n",
              " [181, 32, 443, 148, 42, 99, 1, 1],\n",
              " [405, 154, 1, 352, 1],\n",
              " [1, 1, 2, 1, 1, 1072, 480, 386, 1],\n",
              " [471, 2, 217, 24, 69, 1485, 69, 47, 634],\n",
              " [1, 1, 433, 899, 1, 46, 1],\n",
              " [1, 923, 792, 1486, 478, 1, 84, 65, 1],\n",
              " [284, 1135, 719, 282, 609, 3, 1487, 432, 39, 22],\n",
              " [1, 1674, 55, 107, 1238, 714, 1, 1],\n",
              " [45, 1025, 140, 233, 1, 251, 658, 1054, 137, 1132],\n",
              " [1, 29, 1640, 86, 20, 47],\n",
              " [993, 10, 1675, 985, 535, 1, 1, 1, 1, 993, 399, 90, 569, 1, 1],\n",
              " [10, 1, 969, 518, 1, 1, 1, 1, 1, 1, 1, 1, 664, 1, 1],\n",
              " [1, 222, 315, 1, 814, 811, 472, 1218, 39, 1],\n",
              " [1, 20, 1, 207, 147, 537, 708, 749, 722, 922, 64, 35, 130, 1],\n",
              " [340, 354, 887, 78, 1],\n",
              " [2, 68, 16, 1, 1, 1178, 1298, 483, 498],\n",
              " [931, 1, 60, 1239, 346, 1208, 790, 568, 1352, 1, 800, 1],\n",
              " [159, 1, 1, 576, 1, 145, 1, 1, 1, 1, 1, 1],\n",
              " [669, 1939, 215, 871, 356, 328, 19, 46, 1],\n",
              " [40, 107, 630, 339, 452, 701],\n",
              " [1838, 1607, 1, 762, 681, 135, 1, 110, 452, 1, 158, 1403, 1],\n",
              " [580, 932, 505, 1073, 416, 225, 226, 430, 309, 1147, 266, 83, 580, 1, 1823],\n",
              " [409, 19, 1, 587, 16, 1, 1, 933, 1072, 157, 1, 1],\n",
              " [1, 1430, 1, 141, 17],\n",
              " [72, 118],\n",
              " [46, 315, 110, 328, 93, 1101, 344, 1],\n",
              " [6, 1, 63, 1, 1410, 170, 1, 1642, 1],\n",
              " [1, 396, 1, 1, 1, 368, 1, 1],\n",
              " [1, 6, 1, 11, 49, 14, 1, 76, 84, 638, 677, 209],\n",
              " [1, 1074, 79, 19, 933, 266, 335, 538, 23, 1],\n",
              " [41, 171, 95, 195, 71, 62, 18, 82, 203, 1350],\n",
              " [1, 1, 1, 488, 1309, 693, 1, 740, 154, 152, 77, 55],\n",
              " [1, 768, 1, 1, 407, 1],\n",
              " [537, 1, 491, 1, 1, 620, 204, 5, 84, 211, 1, 1, 1, 1],\n",
              " [1940, 1065, 1651, 477, 1, 192, 25, 441, 59, 1899, 90, 1941, 1, 1],\n",
              " [1112, 1, 242, 1, 1, 203, 197, 157, 451, 1],\n",
              " [1, 1, 1, 532, 1, 1, 1, 1, 811],\n",
              " [1, 152, 251, 1, 811, 19, 1, 1, 725, 256, 15, 1942, 43],\n",
              " [1, 684, 204, 358, 15, 48, 8, 1, 1, 313, 306],\n",
              " [1, 66, 319, 1, 1, 1, 5, 1943, 429, 1, 1279, 161],\n",
              " [76, 11, 1, 1240, 1, 1021, 2, 681, 197, 262, 1, 1],\n",
              " [1241, 1488, 218, 1075, 376, 1489, 1],\n",
              " [1944, 1945, 3, 19, 56, 113, 1676, 1677, 502, 98, 28, 127, 1],\n",
              " [66, 14, 161, 784, 118, 1, 203, 50, 1, 44, 211, 1146],\n",
              " [1, 1314, 13, 107, 17, 22, 1],\n",
              " [123, 3, 5, 125, 1, 18, 737, 1946, 731, 144, 1, 1, 1, 1, 1],\n",
              " [1, 1353, 1, 1, 1056, 396, 1, 1, 1, 396, 389, 422, 1, 1, 407, 1],\n",
              " [43, 459, 4, 435, 363, 282, 1],\n",
              " [1, 64, 22, 3],\n",
              " [42, 238, 300, 808, 1947, 455, 1, 1],\n",
              " [1, 1203, 244, 34, 1, 1, 123, 3, 1313, 1840],\n",
              " [1, 41, 1, 1, 372, 355],\n",
              " [1, 1490, 1948, 140, 34, 1949, 7, 1, 1, 1950, 106, 1],\n",
              " [1, 970, 1, 380, 1, 1],\n",
              " [14, 29, 1, 1, 158, 29, 2, 505, 1, 332, 215],\n",
              " [647, 586, 81, 1109, 895, 648, 1, 1],\n",
              " [280, 62, 235, 1, 742, 1, 838, 31, 1491, 1, 824, 886, 1],\n",
              " [277, 1640, 1, 231, 1678, 1, 1, 1, 1],\n",
              " [77, 593, 1242, 69, 801, 1, 1],\n",
              " [6, 250, 112, 275, 1, 382, 4],\n",
              " [1229, 104, 4, 1, 662, 728, 6, 88],\n",
              " [628,\n",
              "  20,\n",
              "  1354,\n",
              "  1679,\n",
              "  186,\n",
              "  1951,\n",
              "  996,\n",
              "  793,\n",
              "  71,\n",
              "  338,\n",
              "  473,\n",
              "  422,\n",
              "  997,\n",
              "  1680,\n",
              "  920,\n",
              "  90,\n",
              "  569,\n",
              "  1,\n",
              "  1],\n",
              " [224, 249, 1, 406, 1, 552, 1681, 532, 164, 188, 61, 1, 176],\n",
              " [647, 586, 81, 1109, 1492, 1, 1, 1, 1],\n",
              " [418, 218, 337, 503, 633, 1032, 1, 1],\n",
              " [834, 310, 220, 8, 158],\n",
              " [660, 1, 12, 668, 669, 313, 660, 154, 386, 179, 1414, 550, 1],\n",
              " [1, 606, 5, 649, 286, 2, 1493, 795, 1],\n",
              " [1, 1, 1, 1, 140, 1, 26, 377, 134, 720, 802, 1],\n",
              " [42, 46, 315, 945, 480, 57, 244, 1022, 1, 16, 1, 9, 1],\n",
              " [35, 53, 1, 12, 209, 536, 1069, 1243, 1, 1],\n",
              " [894, 1578, 1, 1, 1, 998, 1, 283, 1, 1143, 1, 1, 1],\n",
              " [1, 111, 1, 1],\n",
              " [1, 1613, 648, 1324, 648, 1, 1438, 1, 110, 97, 1, 13, 1, 1],\n",
              " [600, 1076, 13, 527, 1, 449, 58, 27, 1, 1, 1],\n",
              " [12, 1461, 1952, 292, 63, 981, 420, 1, 1, 1],\n",
              " [1, 1, 1, 1, 1, 712, 24, 716, 368],\n",
              " [75, 1, 1, 1228, 1, 1, 5, 135, 89, 392, 101, 918, 1, 1, 1, 1, 1],\n",
              " [1, 575, 1953, 1, 1, 275, 1, 893, 191, 176, 1],\n",
              " [1, 7, 76, 77],\n",
              " [1, 1, 1, 1, 665, 55, 808, 1135, 572, 109, 1],\n",
              " [234, 342, 650, 629, 310, 507, 1148, 134],\n",
              " [73, 1, 1850, 1, 562, 666, 241, 108, 1, 1],\n",
              " [70, 1, 304, 1012, 854, 508, 1599, 174, 1, 1149, 1326, 1, 1],\n",
              " [1241, 1488, 218, 1075, 376, 1489, 317, 64, 11, 711, 1, 1],\n",
              " [1, 1, 1244, 1, 325, 1, 1, 322, 1, 1, 1, 1],\n",
              " [86, 2, 475, 1, 4, 655, 47, 280, 6, 1, 1907],\n",
              " [267, 345, 305, 1, 1, 1655, 1],\n",
              " [312, 1309, 1682, 1150, 3, 1, 1],\n",
              " [1, 1, 471, 1, 1, 354, 1, 1, 133, 425, 1, 210],\n",
              " [1, 1, 1, 125, 362, 54, 252, 289, 1490, 848],\n",
              " [359, 1578, 1226, 15, 14, 17, 22],\n",
              " [1954, 35, 35, 160, 1683, 686, 400, 1, 1, 744],\n",
              " [55, 79, 132, 257, 1077, 308, 351, 379, 394, 795, 97, 1, 12],\n",
              " [1, 464, 1607, 511, 135, 413, 1684, 239, 1553, 1],\n",
              " [10, 410, 441, 785, 563, 105, 192, 25, 59, 975, 646, 856, 976, 90, 569, 1, 1],\n",
              " [1, 210, 66, 220, 2, 1226, 100, 240, 53, 305, 1],\n",
              " [1, 1197, 131, 1, 1, 75, 1030, 1, 1023, 74, 7, 842, 1],\n",
              " [1102, 12, 386, 16, 1151, 134, 1, 669, 1],\n",
              " [1, 227, 1152, 1, 151, 641, 63, 910],\n",
              " [162, 37, 739, 413, 1, 361, 1, 1, 1],\n",
              " [1, 1, 1665, 1, 9, 1, 1],\n",
              " [1685, 1955, 1053, 1956, 66, 34, 95, 1142, 1642, 11, 664, 1, 1, 1911],\n",
              " [45, 91, 525, 1957, 1232, 97, 1, 597, 62, 235, 1, 1299, 1],\n",
              " [1, 7, 123, 94, 28, 1245, 544, 1355, 3, 1],\n",
              " [15, 1356, 411, 1],\n",
              " [2, 68, 16, 1, 1, 480, 1, 786],\n",
              " [1, 1, 1, 44, 1, 1, 162, 1],\n",
              " [328, 1804, 879, 699, 1686, 1],\n",
              " [1, 1, 950, 695],\n",
              " [2, 68, 16, 1, 1, 366, 954, 1, 287],\n",
              " [1, 13, 1484, 1, 959, 111, 11, 17, 22],\n",
              " [57, 433, 416, 1617, 83, 1, 9, 68],\n",
              " [1, 1153, 1, 1153, 67, 6, 40, 1140],\n",
              " [1, 322, 1],\n",
              " [736, 1, 1, 58, 186, 98, 741, 1470, 408, 483, 34, 1],\n",
              " [1, 1, 1957, 113, 1, 1687, 94, 1154, 1, 15, 49, 71, 1880],\n",
              " [1, 1342, 49, 38, 597, 1, 243, 177, 550, 346, 60],\n",
              " [350, 435, 1121, 1, 393, 16, 1, 1],\n",
              " [1, 33, 1610, 1433, 516, 100, 1],\n",
              " [1, 1, 1, 1, 376, 528, 615, 1688],\n",
              " [6, 86, 26, 1],\n",
              " [234, 1057, 2, 1, 133, 11, 1057, 153, 125, 1, 41, 72],\n",
              " [1, 1494, 1, 1, 1, 1031, 1, 1200, 1, 1, 1, 1],\n",
              " [683, 310, 399, 1],\n",
              " [1144, 1, 1, 251, 638, 251, 357, 1155],\n",
              " [219, 383, 185, 10, 254, 493, 433, 325, 97, 362, 822, 454, 137, 1],\n",
              " [1, 1, 307, 1357, 1246, 307, 687, 1, 1, 427, 1, 1958, 1],\n",
              " [1, 1, 695, 1, 132, 140, 1959, 320, 157, 284, 1, 131, 1],\n",
              " [283, 1495, 115, 514, 1, 1, 1],\n",
              " [442, 131, 37, 1663, 1],\n",
              " [1, 1, 96, 1, 1, 429, 1, 641, 1, 484, 1416, 1, 1, 925],\n",
              " [1, 202, 18, 1689, 52, 282, 1344],\n",
              " [1, 40, 1098, 453, 1],\n",
              " [1, 1, 21, 1, 1358, 249, 1922, 129, 1, 1, 1, 1],\n",
              " [1, 1225, 1020, 2, 190, 114, 1, 1, 15, 1, 1],\n",
              " [1, 6, 1, 298, 84, 1, 1, 11, 183, 4, 584, 319],\n",
              " [1960, 376, 1961, 1359, 464, 1, 9, 1, 1662],\n",
              " [1, 1, 43, 1, 1, 478, 1],\n",
              " [824, 3, 17, 224, 22, 56, 39, 715, 1, 1],\n",
              " [1959, 989, 1404, 516, 268, 462, 957, 1, 15, 1236, 128, 306, 411, 1],\n",
              " [1, 188, 129, 249, 1962, 1, 1],\n",
              " [1, 1, 297, 145, 21, 135, 223, 1, 1, 857, 1078, 140, 1561],\n",
              " [1, 1, 1, 1, 1, 532, 1963, 512, 1, 1, 693, 568, 1247, 1, 1],\n",
              " [1, 1, 758, 1677, 397],\n",
              " [1, 97, 500, 111, 500],\n",
              " [894, 349, 91, 103, 90, 1657],\n",
              " [913, 477, 81, 999, 745, 1],\n",
              " [224, 58, 1, 281, 1, 1408, 1, 263, 1, 1, 85, 693, 449, 943, 1797, 1],\n",
              " [147, 677, 1, 357],\n",
              " [1, 18, 1690, 1, 1, 1248, 1, 1156, 5, 182, 496, 114, 1, 429, 158],\n",
              " [841, 361, 1, 1, 1, 687, 1958, 1, 1, 1, 1],\n",
              " [1, 1056, 1, 337, 44, 1689, 1, 1, 1, 1351, 1249, 1],\n",
              " [1, 1, 1, 241, 212, 1655, 1, 1, 1],\n",
              " [1, 428, 45, 5, 397],\n",
              " [15, 4, 17, 1360, 127],\n",
              " [1,\n",
              "  1,\n",
              "  593,\n",
              "  310,\n",
              "  1079,\n",
              "  56,\n",
              "  1,\n",
              "  14,\n",
              "  1213,\n",
              "  463,\n",
              "  211,\n",
              "  27,\n",
              "  481,\n",
              "  1478,\n",
              "  1,\n",
              "  1120,\n",
              "  934,\n",
              "  1],\n",
              " [181, 32, 443, 148, 42, 99, 1, 1],\n",
              " [41, 52, 499, 952, 281, 544, 1361, 104, 4],\n",
              " [1, 39, 1, 189, 16, 1, 9, 68],\n",
              " [1, 723, 409, 31, 553, 1, 612, 390],\n",
              " [38, 57, 1, 23],\n",
              " [1, 1, 1, 1472, 1, 399, 1, 1],\n",
              " [509, 1, 110, 33, 1, 55, 657, 1, 1],\n",
              " [478, 1052, 105, 844, 330, 244, 202, 149, 1, 1],\n",
              " [1136, 172, 234, 740, 1, 1, 1, 228, 14, 1362],\n",
              " [1964, 890, 1, 1910, 1, 988, 1],\n",
              " [172, 45, 2, 126, 1300, 1965, 217, 24, 45],\n",
              " [1, 1, 1, 1208, 219, 56, 995, 83, 1, 1, 51, 83, 1],\n",
              " [1570, 661, 39, 1800, 37, 1, 1],\n",
              " [1, 1, 1149, 1, 1],\n",
              " [1580, 1, 1020, 782, 1, 126, 138, 299, 890, 1, 92, 123, 3],\n",
              " [1, 71, 897, 1691, 1, 54, 576, 1, 1, 1, 1363, 1024, 173, 22, 3, 568],\n",
              " [108, 1185, 1, 130, 1, 45, 103, 45, 1],\n",
              " [49, 153, 233, 1, 1, 1, 1, 325, 81, 70, 8],\n",
              " [1692, 1, 1, 1, 13, 204, 19, 700, 1364, 542, 118, 1],\n",
              " [1300, 1424, 395, 663, 20, 1249, 1, 1, 1, 1, 1, 1],\n",
              " [99, 17, 42, 7, 485, 1076, 1, 176, 1, 1],\n",
              " [136, 225, 116],\n",
              " [1693, 519, 92, 1, 490, 1365, 66, 4, 277, 102, 1, 1],\n",
              " [1, 1, 130, 1, 1, 1, 1, 1],\n",
              " [1, 1, 1, 517, 531, 1496, 1, 1, 802, 562, 1038, 95, 27],\n",
              " [1366, 16, 223, 25, 126, 668, 12, 32, 308, 351, 311, 1],\n",
              " [1, 267],\n",
              " [185, 10, 254, 493, 433, 325, 97, 362, 822, 454, 137, 1],\n",
              " [1, 369, 409, 121, 1, 499, 327, 177, 1, 60, 1, 122, 1],\n",
              " [262, 1, 58, 1, 525, 1, 5, 1367, 233, 1, 15, 50, 1, 1],\n",
              " [1, 1, 155, 1466, 1],\n",
              " [307, 1694, 90, 1824, 780, 1, 750, 825, 1, 1208, 105, 750, 1316, 1, 1],\n",
              " [11, 534, 296, 174, 854, 70, 24, 778, 1, 778],\n",
              " [1, 149, 60, 883, 1863, 885, 1, 858, 1],\n",
              " [563, 856, 1671, 1, 1, 555, 976, 1, 59, 192, 25, 1, 176, 1],\n",
              " [1, 1966, 5, 302, 30],\n",
              " [243, 1967, 14, 1, 1497, 475, 1497, 1],\n",
              " [1498, 1131, 983, 1221, 100, 87, 1499, 1500, 1, 1],\n",
              " [1, 1, 125],\n",
              " [1457, 1, 1, 484, 1, 5, 1, 1, 951, 1, 1, 1, 571, 1, 379, 1],\n",
              " [1080, 381, 161, 1111, 246, 353, 1368, 688, 1080, 165, 381, 1411, 1],\n",
              " [537, 20, 53, 64, 35, 19, 11, 1],\n",
              " [1250, 69, 458, 951, 1968, 1501, 1],\n",
              " [12, 1157, 1251, 33, 440, 23, 746, 1502, 199, 536, 1503, 1],\n",
              " [543, 208, 236, 724, 803, 98, 543, 208, 236, 724, 30, 1369],\n",
              " [22, 1139, 1, 82, 285, 424, 611],\n",
              " [1, 1, 1, 1, 1, 7, 1340, 127, 6, 250, 112, 1295, 1],\n",
              " [6, 287, 1, 6, 945, 17, 22, 28, 276, 491, 565, 180, 37],\n",
              " [1, 227, 392, 390, 348, 51, 958, 716, 1],\n",
              " [559, 1, 1847, 1, 1, 26, 1, 1, 1],\n",
              " [278, 163, 1, 38, 591, 1628, 1067, 2, 1, 1, 219, 694, 1053],\n",
              " [1, 1969, 596, 376, 523, 268, 1, 1970, 523, 98, 61, 114],\n",
              " [1971, 183, 783, 1, 707, 366, 1, 1],\n",
              " [2, 68, 16, 1, 1504, 1, 1046, 1, 44, 98, 1572, 375, 1927, 1, 461],\n",
              " [1, 66, 277, 1, 1481, 850, 104, 293],\n",
              " [94, 878, 472, 1, 1505, 53, 237, 1, 1, 1231],\n",
              " [1, 5, 184, 1972, 1081, 897, 1, 594],\n",
              " [444, 112, 534, 1, 1973, 38, 171, 534, 6, 706, 276, 1],\n",
              " [1, 1, 577, 271, 3, 42, 101, 148, 336, 165, 352],\n",
              " [17, 203, 1, 1, 1],\n",
              " [1, 1, 104, 69, 29, 110, 1695, 2, 14, 13, 398, 62, 1],\n",
              " [128, 1, 967, 337, 57, 218, 1, 967, 1237, 638, 1, 1],\n",
              " [664, 1440, 101, 49, 66, 804, 1, 565, 673],\n",
              " [1845, 16, 157, 440, 199, 408, 58, 1],\n",
              " [46,\n",
              "  1426,\n",
              "  1,\n",
              "  1974,\n",
              "  5,\n",
              "  1,\n",
              "  1331,\n",
              "  859,\n",
              "  816,\n",
              "  583,\n",
              "  583,\n",
              "  14,\n",
              "  1975,\n",
              "  1426,\n",
              "  782,\n",
              "  1,\n",
              "  1,\n",
              "  1,\n",
              "  1,\n",
              "  1],\n",
              " [1, 37, 712, 29, 2, 1367, 356, 215, 334],\n",
              " [1, 1, 86, 2, 34, 152, 1696, 13, 288, 1, 276, 4, 8],\n",
              " [467, 120, 297, 1971, 40, 496],\n",
              " [1, 1, 102, 1663, 1],\n",
              " [1, 1, 585, 1633, 5, 43, 1836, 1, 1, 1],\n",
              " [1, 163, 1082, 292, 683, 2, 140],\n",
              " [402, 272, 64, 54, 96, 1, 19, 1, 1, 1, 125, 896],\n",
              " [1, 88, 1342, 1229, 515, 445, 89],\n",
              " [185, 137, 889, 254, 185, 1, 1506, 1457, 1, 1976, 1697, 1],\n",
              " [710, 650, 1, 995, 1306, 1, 334, 1058, 897, 1217, 369, 1, 1],\n",
              " [1158, 107, 17, 22, 37, 15, 36, 1977, 201, 1],\n",
              " [95, 567, 886, 111, 10, 222, 1, 1698, 1],\n",
              " [105, 155, 1, 433, 384, 1, 1, 1, 1],\n",
              " [224, 249, 1, 1681, 532, 164, 406, 1, 188, 61, 1015, 436, 1],\n",
              " [1, 1, 319, 607, 641, 565, 2, 1296, 1, 65, 81],\n",
              " [1083, 179, 26, 798, 26, 46, 222, 1507, 218, 328, 798, 284, 26, 584, 1],\n",
              " [146, 771, 87, 501, 299, 553, 220, 108, 133, 616, 1, 456, 115],\n",
              " [789, 180, 201],\n",
              " [1, 86, 26],\n",
              " [6, 860, 733, 163, 1, 1, 219, 1, 18, 1139, 65, 1135, 488, 755],\n",
              " [522, 209, 1232, 393, 30, 1041, 1370, 636, 1012, 30, 1],\n",
              " [1, 1244, 304, 473, 274, 1, 337, 17, 105, 393, 1339, 1],\n",
              " [286, 1, 303, 1978, 1],\n",
              " [149, 1, 1, 418, 571, 1],\n",
              " [183],\n",
              " [57, 155, 1699, 1, 1],\n",
              " [1, 467, 86, 1307, 1277, 226, 571, 322, 1],\n",
              " [1, 182, 151, 34, 919, 386, 4, 1, 1, 152, 81, 1, 146, 500, 1508, 1],\n",
              " [935, 1979, 1371, 1252, 205, 1509, 353, 312, 11, 438, 994, 1],\n",
              " [1104, 1, 314],\n",
              " [185, 10, 254, 493, 433, 325, 97, 362, 822, 454, 137, 1, 1],\n",
              " [154, 1253, 1, 158, 45, 1, 89, 603, 1, 80, 1700, 892],\n",
              " [1, 182, 173, 127, 1019],\n",
              " ...]"
            ]
          },
          "metadata": {},
          "execution_count": 69
        }
      ]
    },
    {
      "cell_type": "markdown",
      "source": [
        "Convert Test To Vectors"
      ],
      "metadata": {
        "id": "9DbWvXxi9iMc"
      }
    },
    {
      "cell_type": "code",
      "source": [
        "y_train = np.array(y_train).astype('float32')\n",
        "y_val = np.array(y_val).astype('float32')"
      ],
      "metadata": {
        "id": "FOOjArMc9hqG"
      },
      "execution_count": 35,
      "outputs": []
    },
    {
      "cell_type": "markdown",
      "source": [
        "# Models With BoW"
      ],
      "metadata": {
        "id": "n810qe1J1Fve"
      }
    },
    {
      "cell_type": "code",
      "source": [
        "import tensorflow as tf\n",
        "from tensorflow.keras.preprocessing.sequence import pad_sequences\n",
        "maxlen = 2000\n",
        "training_padded = pad_sequences(x_train_bow,\n",
        "                                maxlen=maxlen, \n",
        "                                truncating='post',\n",
        "                                padding = 'post')\n",
        "val_padded = pad_sequences(x_val_bow,\n",
        "                                maxlen=maxlen, \n",
        "                                truncating='post',\n",
        "                                padding = 'post')\n"
      ],
      "metadata": {
        "id": "OKcjNkGW1Lp1"
      },
      "execution_count": 64,
      "outputs": []
    },
    {
      "cell_type": "code",
      "source": [
        "from tensorflow.keras import models\n",
        "from tensorflow.keras import layers\n",
        "from tensorflow.keras import losses\n",
        "from tensorflow.keras import metrics\n",
        "from tensorflow.keras import optimizers\n",
        "\n",
        "model = models.Sequential()\n",
        "model.add(layers.Embedding(1000, 32, input_length=maxlen))\n",
        "model.add(layers.LSTM(32))\n",
        "model.add(layers.BatchNormalization())\n",
        "model.add(layers.Dropout(0.4))\n",
        "model.add(layers.Flatten())\n",
        "model.add(layers.Dense(64, activation='relu'))\n",
        "model.add(layers.Dropout(0.4))\n",
        "model.add(layers.Dense(32, activation='relu'))\n",
        "model.add(layers.Dropout(0.4))\n",
        "model.add(layers.Dense(1, activation='sigmoid'))\n",
        "\n",
        "model.compile(\n",
        "    loss='binary_crossentropy',\n",
        "    optimizer='Adamax',\n",
        "    metrics=[metrics.binary_accuracy]\n",
        ")\n",
        "\n",
        "model.summary()"
      ],
      "metadata": {
        "colab": {
          "base_uri": "https://localhost:8080/"
        },
        "id": "5LD3uXbu6Eku",
        "outputId": "26246024-15d2-4926-f375-faa0f89b7316"
      },
      "execution_count": 65,
      "outputs": [
        {
          "output_type": "stream",
          "name": "stdout",
          "text": [
            "Model: \"sequential_7\"\n",
            "_________________________________________________________________\n",
            " Layer (type)                Output Shape              Param #   \n",
            "=================================================================\n",
            " embedding_7 (Embedding)     (None, 2000, 32)          32000     \n",
            "                                                                 \n",
            " lstm_5 (LSTM)               (None, 32)                8320      \n",
            "                                                                 \n",
            " batch_normalization_7 (Batc  (None, 32)               128       \n",
            " hNormalization)                                                 \n",
            "                                                                 \n",
            " dropout_17 (Dropout)        (None, 32)                0         \n",
            "                                                                 \n",
            " flatten_7 (Flatten)         (None, 32)                0         \n",
            "                                                                 \n",
            " dense_21 (Dense)            (None, 64)                2112      \n",
            "                                                                 \n",
            " dropout_18 (Dropout)        (None, 64)                0         \n",
            "                                                                 \n",
            " dense_22 (Dense)            (None, 32)                2080      \n",
            "                                                                 \n",
            " dropout_19 (Dropout)        (None, 32)                0         \n",
            "                                                                 \n",
            " dense_23 (Dense)            (None, 1)                 33        \n",
            "                                                                 \n",
            "=================================================================\n",
            "Total params: 44,673\n",
            "Trainable params: 44,609\n",
            "Non-trainable params: 64\n",
            "_________________________________________________________________\n"
          ]
        }
      ]
    },
    {
      "cell_type": "code",
      "source": [
        "history = model.fit(\n",
        "    training_padded, \n",
        "    y_train, \n",
        "    epochs = 15, \n",
        "    batch_size = 512,  \n",
        "    validation_data=(val_padded, y_val)\n",
        ")"
      ],
      "metadata": {
        "colab": {
          "base_uri": "https://localhost:8080/"
        },
        "id": "tiNbIw126GTW",
        "outputId": "49728757-0c24-4ea8-d00b-872e2df3c202"
      },
      "execution_count": 56,
      "outputs": [
        {
          "output_type": "stream",
          "name": "stdout",
          "text": [
            "Epoch 1/15\n",
            "10/10 [==============================] - 4s 166ms/step - loss: 0.6917 - binary_accuracy: 0.5567 - val_loss: 0.6909 - val_binary_accuracy: 0.5616\n",
            "Epoch 2/15\n",
            "10/10 [==============================] - 1s 110ms/step - loss: 0.6894 - binary_accuracy: 0.5698 - val_loss: 0.6888 - val_binary_accuracy: 0.5616\n",
            "Epoch 3/15\n",
            "10/10 [==============================] - 1s 111ms/step - loss: 0.6872 - binary_accuracy: 0.5716 - val_loss: 0.6873 - val_binary_accuracy: 0.5616\n",
            "Epoch 4/15\n",
            "10/10 [==============================] - 1s 109ms/step - loss: 0.6860 - binary_accuracy: 0.5712 - val_loss: 0.6863 - val_binary_accuracy: 0.5616\n",
            "Epoch 5/15\n",
            "10/10 [==============================] - 1s 110ms/step - loss: 0.6839 - binary_accuracy: 0.5722 - val_loss: 0.6857 - val_binary_accuracy: 0.5616\n",
            "Epoch 6/15\n",
            "10/10 [==============================] - 1s 109ms/step - loss: 0.6834 - binary_accuracy: 0.5708 - val_loss: 0.6856 - val_binary_accuracy: 0.5616\n",
            "Epoch 7/15\n",
            "10/10 [==============================] - 1s 108ms/step - loss: 0.6839 - binary_accuracy: 0.5708 - val_loss: 0.6857 - val_binary_accuracy: 0.5616\n",
            "Epoch 8/15\n",
            "10/10 [==============================] - 1s 110ms/step - loss: 0.6843 - binary_accuracy: 0.5722 - val_loss: 0.6857 - val_binary_accuracy: 0.5616\n",
            "Epoch 9/15\n",
            "10/10 [==============================] - 1s 110ms/step - loss: 0.6856 - binary_accuracy: 0.5712 - val_loss: 0.6856 - val_binary_accuracy: 0.5616\n",
            "Epoch 10/15\n",
            "10/10 [==============================] - 1s 110ms/step - loss: 0.6841 - binary_accuracy: 0.5716 - val_loss: 0.6856 - val_binary_accuracy: 0.5616\n",
            "Epoch 11/15\n",
            "10/10 [==============================] - 1s 109ms/step - loss: 0.6845 - binary_accuracy: 0.5716 - val_loss: 0.6856 - val_binary_accuracy: 0.5616\n",
            "Epoch 12/15\n",
            "10/10 [==============================] - 1s 111ms/step - loss: 0.6825 - binary_accuracy: 0.5718 - val_loss: 0.6857 - val_binary_accuracy: 0.5616\n",
            "Epoch 13/15\n",
            "10/10 [==============================] - 1s 110ms/step - loss: 0.6837 - binary_accuracy: 0.5716 - val_loss: 0.6857 - val_binary_accuracy: 0.5616\n",
            "Epoch 14/15\n",
            "10/10 [==============================] - 1s 109ms/step - loss: 0.6839 - binary_accuracy: 0.5716 - val_loss: 0.6857 - val_binary_accuracy: 0.5616\n",
            "Epoch 15/15\n",
            "10/10 [==============================] - 1s 110ms/step - loss: 0.6833 - binary_accuracy: 0.5722 - val_loss: 0.6857 - val_binary_accuracy: 0.5616\n"
          ]
        }
      ]
    },
    {
      "cell_type": "code",
      "source": [
        "import matplotlib.pyplot as plt\n",
        "acc = history.history['binary_accuracy']\n",
        "val_acc = history.history['val_binary_accuracy']\n",
        "loss = history.history['loss']\n",
        "val_loss = history.history['val_loss']\n",
        "\n",
        "epochs = range(1, len(acc) + 1)\n",
        "\n",
        "# \"bo\" is for \"blue dot\"\n",
        "plt.plot(epochs, loss, 'bo', label='Training loss')\n",
        "# b is for \"solid blue line\"\n",
        "plt.plot(epochs, val_loss, 'b', label='Validation loss')\n",
        "plt.title('Training and validation loss')\n",
        "plt.xlabel('Epochs')\n",
        "plt.ylabel('Loss')\n",
        "plt.legend()\n",
        "\n",
        "plt.show()"
      ],
      "metadata": {
        "colab": {
          "base_uri": "https://localhost:8080/",
          "height": 295
        },
        "id": "faDVta6j6xMh",
        "outputId": "1f31970b-b873-4ed1-8693-d4af3fc4cc66"
      },
      "execution_count": 57,
      "outputs": [
        {
          "output_type": "display_data",
          "data": {
            "text/plain": [
              "<Figure size 432x288 with 1 Axes>"
            ],
            "image/png": "[encoded data removed]"
          },
          "metadata": {
            "needs_background": "light"
          }
        }
      ]
    },
    {
      "cell_type": "markdown",
      "source": [
        "## GRU"
      ],
      "metadata": {
        "id": "Pbc9Tqm5AFLg"
      }
    },
    {
      "cell_type": "code",
      "source": [
        "model = models.Sequential()\n",
        "model.add(layers.Embedding(1000, 32, input_length=maxlen))\n",
        "model.add(layers.GRU(32))\n",
        "model.add(layers.BatchNormalization())\n",
        "model.add(layers.Dropout(0.4))\n",
        "model.add(layers.Flatten())\n",
        "model.add(layers.Dense(64, activation='relu'))\n",
        "model.add(layers.Dropout(0.4))\n",
        "model.add(layers.Dense(32, activation='relu'))\n",
        "model.add(layers.Dropout(0.4))\n",
        "model.add(layers.Dense(1, activation='sigmoid'))\n",
        "\n",
        "\n",
        "model.compile(\n",
        "    loss='binary_crossentropy',\n",
        "    optimizer='Adamax',\n",
        "    metrics=[metrics.binary_accuracy]\n",
        ")\n",
        "\n",
        "model.summary()"
      ],
      "metadata": {
        "colab": {
          "base_uri": "https://localhost:8080/"
        },
        "id": "FpRzXsV0AEEM",
        "outputId": "2bc528ec-a1d7-4636-9c33-0fc15426282c"
      },
      "execution_count": 58,
      "outputs": [
        {
          "output_type": "stream",
          "name": "stdout",
          "text": [
            "Model: \"sequential_5\"\n",
            "_________________________________________________________________\n",
            " Layer (type)                Output Shape              Param #   \n",
            "=================================================================\n",
            " embedding_5 (Embedding)     (None, 2000, 32)          32000     \n",
            "                                                                 \n",
            " gru_1 (GRU)                 (None, 32)                6336      \n",
            "                                                                 \n",
            " batch_normalization_5 (Batc  (None, 32)               128       \n",
            " hNormalization)                                                 \n",
            "                                                                 \n",
            " dropout_11 (Dropout)        (None, 32)                0         \n",
            "                                                                 \n",
            " flatten_5 (Flatten)         (None, 32)                0         \n",
            "                                                                 \n",
            " dense_15 (Dense)            (None, 64)                2112      \n",
            "                                                                 \n",
            " dropout_12 (Dropout)        (None, 64)                0         \n",
            "                                                                 \n",
            " dense_16 (Dense)            (None, 32)                2080      \n",
            "                                                                 \n",
            " dropout_13 (Dropout)        (None, 32)                0         \n",
            "                                                                 \n",
            " dense_17 (Dense)            (None, 1)                 33        \n",
            "                                                                 \n",
            "=================================================================\n",
            "Total params: 42,689\n",
            "Trainable params: 42,625\n",
            "Non-trainable params: 64\n",
            "_________________________________________________________________\n"
          ]
        }
      ]
    },
    {
      "cell_type": "code",
      "source": [
        "history = model.fit(\n",
        "    training_padded, \n",
        "    y_train, \n",
        "    epochs = 15, \n",
        "    batch_size = 512,  \n",
        "    validation_data=(val_padded, y_val)\n",
        ")"
      ],
      "metadata": {
        "colab": {
          "base_uri": "https://localhost:8080/"
        },
        "id": "le3bWBycASl7",
        "outputId": "2d1f14d3-1ed4-4a2c-befe-0a9ab8bcc5e5"
      },
      "execution_count": 59,
      "outputs": [
        {
          "output_type": "stream",
          "name": "stdout",
          "text": [
            "Epoch 1/15\n",
            "10/10 [==============================] - 4s 163ms/step - loss: 0.6915 - binary_accuracy: 0.5686 - val_loss: 0.6891 - val_binary_accuracy: 0.5616\n",
            "Epoch 2/15\n",
            "10/10 [==============================] - 1s 111ms/step - loss: 0.6880 - binary_accuracy: 0.5712 - val_loss: 0.6870 - val_binary_accuracy: 0.5616\n",
            "Epoch 3/15\n",
            "10/10 [==============================] - 1s 110ms/step - loss: 0.6853 - binary_accuracy: 0.5714 - val_loss: 0.6859 - val_binary_accuracy: 0.5616\n",
            "Epoch 4/15\n",
            "10/10 [==============================] - 1s 110ms/step - loss: 0.6845 - binary_accuracy: 0.5714 - val_loss: 0.6856 - val_binary_accuracy: 0.5616\n",
            "Epoch 5/15\n",
            "10/10 [==============================] - 1s 111ms/step - loss: 0.6847 - binary_accuracy: 0.5714 - val_loss: 0.6857 - val_binary_accuracy: 0.5616\n",
            "Epoch 6/15\n",
            "10/10 [==============================] - 1s 112ms/step - loss: 0.6838 - binary_accuracy: 0.5712 - val_loss: 0.6858 - val_binary_accuracy: 0.5616\n",
            "Epoch 7/15\n",
            "10/10 [==============================] - 1s 111ms/step - loss: 0.6836 - binary_accuracy: 0.5716 - val_loss: 0.6858 - val_binary_accuracy: 0.5616\n",
            "Epoch 8/15\n",
            "10/10 [==============================] - 1s 112ms/step - loss: 0.6838 - binary_accuracy: 0.5712 - val_loss: 0.6858 - val_binary_accuracy: 0.5616\n",
            "Epoch 9/15\n",
            "10/10 [==============================] - 1s 112ms/step - loss: 0.6837 - binary_accuracy: 0.5714 - val_loss: 0.6858 - val_binary_accuracy: 0.5616\n",
            "Epoch 10/15\n",
            "10/10 [==============================] - 1s 115ms/step - loss: 0.6825 - binary_accuracy: 0.5716 - val_loss: 0.6858 - val_binary_accuracy: 0.5616\n",
            "Epoch 11/15\n",
            "10/10 [==============================] - 1s 111ms/step - loss: 0.6836 - binary_accuracy: 0.5714 - val_loss: 0.6859 - val_binary_accuracy: 0.5616\n",
            "Epoch 12/15\n",
            "10/10 [==============================] - 1s 111ms/step - loss: 0.6839 - binary_accuracy: 0.5714 - val_loss: 0.6858 - val_binary_accuracy: 0.5616\n",
            "Epoch 13/15\n",
            "10/10 [==============================] - 1s 110ms/step - loss: 0.6829 - binary_accuracy: 0.5712 - val_loss: 0.6858 - val_binary_accuracy: 0.5616\n",
            "Epoch 14/15\n",
            "10/10 [==============================] - 1s 151ms/step - loss: 0.6834 - binary_accuracy: 0.5712 - val_loss: 0.6858 - val_binary_accuracy: 0.5616\n",
            "Epoch 15/15\n",
            "10/10 [==============================] - 1s 111ms/step - loss: 0.6834 - binary_accuracy: 0.5716 - val_loss: 0.6858 - val_binary_accuracy: 0.5616\n"
          ]
        }
      ]
    },
    {
      "cell_type": "code",
      "source": [
        "acc = history.history['binary_accuracy']\n",
        "val_acc = history.history['val_binary_accuracy']\n",
        "loss = history.history['loss']\n",
        "val_loss = history.history['val_loss']\n",
        "\n",
        "epochs = range(1, len(acc) + 1)\n",
        "\n",
        "# \"bo\" is for \"blue dot\"\n",
        "plt.plot(epochs, loss, 'bo', label='Training loss')\n",
        "# b is for \"solid blue line\"\n",
        "plt.plot(epochs, val_loss, 'b', label='Validation loss')\n",
        "plt.title('Training and validation loss')\n",
        "plt.xlabel('Epochs')\n",
        "plt.ylabel('Loss')\n",
        "plt.legend()\n",
        "\n",
        "plt.show()"
      ],
      "metadata": {
        "colab": {
          "base_uri": "https://localhost:8080/",
          "height": 295
        },
        "id": "VZsvtRyXENhn",
        "outputId": "91acce1a-8c79-4822-e2d0-a68c1fb0d6a0"
      },
      "execution_count": 60,
      "outputs": [
        {
          "output_type": "display_data",
          "data": {
            "text/plain": [
              "<Figure size 432x288 with 1 Axes>"
            ],
            "image/png": "[encoded data removed]"
          },
          "metadata": {
            "needs_background": "light"
          }
        }
      ]
    },
    {
      "cell_type": "markdown",
      "source": [
        "## BiLSTM"
      ],
      "metadata": {
        "id": "5zcrQyLcIeEH"
      }
    },
    {
      "cell_type": "code",
      "source": [
        "model = models.Sequential()\n",
        "model.add(layers.Embedding(1000, 32, input_length=maxlen))\n",
        "model.add(layers.Bidirectional(layers.LSTM(32)))\n",
        "model.add(layers.BatchNormalization())\n",
        "model.add(layers.Dropout(0.4))\n",
        "model.add(layers.Flatten())\n",
        "model.add(layers.Dense(64, activation='relu'))\n",
        "model.add(layers.Dropout(0.4))\n",
        "model.add(layers.Dense(32, activation='relu'))\n",
        "model.add(layers.Dropout(0.4))\n",
        "model.add(layers.Dense(1, activation='sigmoid'))\n",
        "\n",
        "\n",
        "model.compile(\n",
        "    loss='binary_crossentropy',\n",
        "    optimizer='Adamax',\n",
        "    metrics=[metrics.binary_accuracy]\n",
        ")\n",
        "\n",
        "model.summary()"
      ],
      "metadata": {
        "colab": {
          "base_uri": "https://localhost:8080/"
        },
        "id": "va3YWXThHqF_",
        "outputId": "5363787c-3f90-4db4-ac12-dfc026af83d6"
      },
      "execution_count": 66,
      "outputs": [
        {
          "output_type": "stream",
          "name": "stdout",
          "text": [
            "Model: \"sequential_8\"\n",
            "_________________________________________________________________\n",
            " Layer (type)                Output Shape              Param #   \n",
            "=================================================================\n",
            " embedding_8 (Embedding)     (None, 2000, 32)          32000     \n",
            "                                                                 \n",
            " bidirectional_2 (Bidirectio  (None, 64)               16640     \n",
            " nal)                                                            \n",
            "                                                                 \n",
            " batch_normalization_8 (Batc  (None, 64)               256       \n",
            " hNormalization)                                                 \n",
            "                                                                 \n",
            " dropout_20 (Dropout)        (None, 64)                0         \n",
            "                                                                 \n",
            " flatten_8 (Flatten)         (None, 64)                0         \n",
            "                                                                 \n",
            " dense_24 (Dense)            (None, 64)                4160      \n",
            "                                                                 \n",
            " dropout_21 (Dropout)        (None, 64)                0         \n",
            "                                                                 \n",
            " dense_25 (Dense)            (None, 32)                2080      \n",
            "                                                                 \n",
            " dropout_22 (Dropout)        (None, 32)                0         \n",
            "                                                                 \n",
            " dense_26 (Dense)            (None, 1)                 33        \n",
            "                                                                 \n",
            "=================================================================\n",
            "Total params: 55,169\n",
            "Trainable params: 55,041\n",
            "Non-trainable params: 128\n",
            "_________________________________________________________________\n"
          ]
        }
      ]
    },
    {
      "cell_type": "code",
      "source": [
        "history = model.fit(\n",
        "    training_padded, \n",
        "    y_train, \n",
        "    epochs = 15, \n",
        "    batch_size = 512,  \n",
        "    validation_data=(val_padded, y_val)\n",
        ")"
      ],
      "metadata": {
        "colab": {
          "base_uri": "https://localhost:8080/"
        },
        "id": "tzju76JZJDYs",
        "outputId": "3cbf6014-9e7b-44dd-b689-508827e22289"
      },
      "execution_count": 67,
      "outputs": [
        {
          "output_type": "stream",
          "name": "stdout",
          "text": [
            "Epoch 1/15\n",
            "12/12 [==============================] - 7s 285ms/step - loss: 0.6899 - binary_accuracy: 0.5488 - val_loss: 0.6870 - val_binary_accuracy: 0.5739\n",
            "Epoch 2/15\n",
            "12/12 [==============================] - 2s 210ms/step - loss: 0.6853 - binary_accuracy: 0.5665 - val_loss: 0.6842 - val_binary_accuracy: 0.5739\n",
            "Epoch 3/15\n",
            "12/12 [==============================] - 3s 211ms/step - loss: 0.6838 - binary_accuracy: 0.5688 - val_loss: 0.6830 - val_binary_accuracy: 0.5739\n",
            "Epoch 4/15\n",
            "12/12 [==============================] - 3s 211ms/step - loss: 0.6828 - binary_accuracy: 0.5680 - val_loss: 0.6827 - val_binary_accuracy: 0.5739\n",
            "Epoch 5/15\n",
            "12/12 [==============================] - 3s 212ms/step - loss: 0.6815 - binary_accuracy: 0.5685 - val_loss: 0.6826 - val_binary_accuracy: 0.5739\n",
            "Epoch 6/15\n",
            "12/12 [==============================] - 3s 211ms/step - loss: 0.6815 - binary_accuracy: 0.5691 - val_loss: 0.6826 - val_binary_accuracy: 0.5739\n",
            "Epoch 7/15\n",
            "12/12 [==============================] - 3s 211ms/step - loss: 0.6812 - binary_accuracy: 0.5681 - val_loss: 0.6828 - val_binary_accuracy: 0.5739\n",
            "Epoch 8/15\n",
            "12/12 [==============================] - 3s 230ms/step - loss: 0.6817 - binary_accuracy: 0.5693 - val_loss: 0.6829 - val_binary_accuracy: 0.5739\n",
            "Epoch 9/15\n",
            "12/12 [==============================] - 3s 213ms/step - loss: 0.6807 - binary_accuracy: 0.5683 - val_loss: 0.6830 - val_binary_accuracy: 0.5739\n",
            "Epoch 10/15\n",
            "12/12 [==============================] - 3s 213ms/step - loss: 0.6819 - binary_accuracy: 0.5690 - val_loss: 0.6830 - val_binary_accuracy: 0.5739\n",
            "Epoch 11/15\n",
            "12/12 [==============================] - 3s 214ms/step - loss: 0.6797 - binary_accuracy: 0.5701 - val_loss: 0.6832 - val_binary_accuracy: 0.5739\n",
            "Epoch 12/15\n",
            "12/12 [==============================] - 3s 213ms/step - loss: 0.6787 - binary_accuracy: 0.5691 - val_loss: 0.6822 - val_binary_accuracy: 0.5739\n",
            "Epoch 13/15\n",
            "12/12 [==============================] - 3s 214ms/step - loss: 0.6798 - binary_accuracy: 0.5700 - val_loss: 0.6817 - val_binary_accuracy: 0.5739\n",
            "Epoch 14/15\n",
            "12/12 [==============================] - 3s 215ms/step - loss: 0.6781 - binary_accuracy: 0.5703 - val_loss: 0.6818 - val_binary_accuracy: 0.5739\n",
            "Epoch 15/15\n",
            "12/12 [==============================] - 3s 215ms/step - loss: 0.6775 - binary_accuracy: 0.5696 - val_loss: 0.6850 - val_binary_accuracy: 0.5739\n"
          ]
        }
      ]
    },
    {
      "cell_type": "code",
      "source": [
        "acc = history.history['binary_accuracy']\n",
        "val_acc = history.history['val_binary_accuracy']\n",
        "loss = history.history['loss']\n",
        "val_loss = history.history['val_loss']\n",
        "\n",
        "epochs = range(1, len(acc) + 1)\n",
        "\n",
        "# \"bo\" is for \"blue dot\"\n",
        "plt.plot(epochs, loss, 'bo', label='Training loss')\n",
        "# b is for \"solid blue line\"\n",
        "plt.plot(epochs, val_loss, 'b', label='Validation loss')\n",
        "plt.title('Training and validation loss')\n",
        "plt.xlabel('Epochs')\n",
        "plt.ylabel('Loss')\n",
        "plt.legend()\n",
        "\n",
        "plt.show()"
      ],
      "metadata": {
        "colab": {
          "base_uri": "https://localhost:8080/",
          "height": 295
        },
        "id": "Abs4_NMHJKju",
        "outputId": "8c820911-1049-49d4-85ef-23bf18f22a29"
      },
      "execution_count": 68,
      "outputs": [
        {
          "output_type": "display_data",
          "data": {
            "text/plain": [
              "<Figure size 432x288 with 1 Axes>"
            ],
            "image/png": "[encoded data removed]"
          },
          "metadata": {
            "needs_background": "light"
          }
        }
      ]
    },
    {
      "cell_type": "code",
      "source": [
        ""
      ],
      "metadata": {
        "id": "r6RpzdFpE7S2"
      },
      "execution_count": 63,
      "outputs": []
    },
    {
      "cell_type": "markdown",
      "source": [
        "# Models With TF/IDF"
      ],
      "metadata": {
        "id": "5tuoMHDBFCHd"
      }
    },
    {
      "cell_type": "code",
      "source": [
        "import tensorflow as tf\n",
        "from tensorflow.keras.preprocessing.sequence import pad_sequences\n",
        "maxlen = 2000\n",
        "training_padded = pad_sequences(x_train_seq,\n",
        "                                maxlen=maxlen, \n",
        "                                truncating='post',\n",
        "                                padding = 'post')\n",
        "val_padded = pad_sequences(x_val_seq,\n",
        "                                maxlen=maxlen, \n",
        "                                truncating='post',\n",
        "                                padding = 'post')"
      ],
      "metadata": {
        "id": "ao0sjpRdFe3r"
      },
      "execution_count": 70,
      "outputs": []
    },
    {
      "cell_type": "markdown",
      "source": [
        "## LSTM"
      ],
      "metadata": {
        "id": "e-TtO9omJ6pM"
      }
    },
    {
      "cell_type": "code",
      "source": [
        "from tensorflow.keras import models\n",
        "from tensorflow.keras import layers\n",
        "from tensorflow.keras import losses\n",
        "from tensorflow.keras import metrics\n",
        "from tensorflow.keras import optimizers\n",
        "\n",
        "model = models.Sequential()\n",
        "model.add(layers.Embedding(1000, 32, input_length=maxlen))\n",
        "model.add(layers.LSTM(32))\n",
        "model.add(layers.BatchNormalization())\n",
        "model.add(layers.Dropout(0.4))\n",
        "model.add(layers.Flatten())\n",
        "model.add(layers.Dense(64, activation='relu'))\n",
        "model.add(layers.Dropout(0.4))\n",
        "model.add(layers.Dense(32, activation='relu'))\n",
        "model.add(layers.Dropout(0.4))\n",
        "model.add(layers.Dense(1, activation='sigmoid'))\n",
        "\n",
        "model.compile(\n",
        "    loss='binary_crossentropy',\n",
        "    optimizer='Adamax',\n",
        "    metrics=[metrics.binary_accuracy]\n",
        ")\n",
        "\n",
        "model.summary()"
      ],
      "metadata": {
        "colab": {
          "base_uri": "https://localhost:8080/"
        },
        "id": "7mQypNXzJxut",
        "outputId": "32553d27-7198-42f1-9e08-67eb303dba13"
      },
      "execution_count": 71,
      "outputs": [
        {
          "output_type": "stream",
          "name": "stdout",
          "text": [
            "Model: \"sequential_9\"\n",
            "_________________________________________________________________\n",
            " Layer (type)                Output Shape              Param #   \n",
            "=================================================================\n",
            " embedding_9 (Embedding)     (None, 2000, 32)          32000     \n",
            "                                                                 \n",
            " lstm_7 (LSTM)               (None, 32)                8320      \n",
            "                                                                 \n",
            " batch_normalization_9 (Batc  (None, 32)               128       \n",
            " hNormalization)                                                 \n",
            "                                                                 \n",
            " dropout_23 (Dropout)        (None, 32)                0         \n",
            "                                                                 \n",
            " flatten_9 (Flatten)         (None, 32)                0         \n",
            "                                                                 \n",
            " dense_27 (Dense)            (None, 64)                2112      \n",
            "                                                                 \n",
            " dropout_24 (Dropout)        (None, 64)                0         \n",
            "                                                                 \n",
            " dense_28 (Dense)            (None, 32)                2080      \n",
            "                                                                 \n",
            " dropout_25 (Dropout)        (None, 32)                0         \n",
            "                                                                 \n",
            " dense_29 (Dense)            (None, 1)                 33        \n",
            "                                                                 \n",
            "=================================================================\n",
            "Total params: 44,673\n",
            "Trainable params: 44,609\n",
            "Non-trainable params: 64\n",
            "_________________________________________________________________\n"
          ]
        }
      ]
    },
    {
      "cell_type": "code",
      "source": [
        "history = model.fit(\n",
        "    training_padded, \n",
        "    y_train, \n",
        "    epochs = 15, \n",
        "    batch_size = 512,  \n",
        "    validation_data=(val_padded, y_val)\n",
        ")"
      ],
      "metadata": {
        "colab": {
          "base_uri": "https://localhost:8080/"
        },
        "id": "P7CpUX4CJ9-r",
        "outputId": "d7005034-9619-452e-c1c0-3490d029f110"
      },
      "execution_count": 72,
      "outputs": [
        {
          "output_type": "stream",
          "name": "stdout",
          "text": [
            "Epoch 1/15\n",
            "12/12 [==============================] - 4s 155ms/step - loss: 0.6907 - binary_accuracy: 0.5683 - val_loss: 0.6875 - val_binary_accuracy: 0.5739\n",
            "Epoch 2/15\n",
            "12/12 [==============================] - 1s 110ms/step - loss: 0.6866 - binary_accuracy: 0.5695 - val_loss: 0.6846 - val_binary_accuracy: 0.5739\n",
            "Epoch 3/15\n",
            "12/12 [==============================] - 1s 110ms/step - loss: 0.6853 - binary_accuracy: 0.5695 - val_loss: 0.6830 - val_binary_accuracy: 0.5739\n",
            "Epoch 4/15\n",
            "12/12 [==============================] - 1s 112ms/step - loss: 0.6841 - binary_accuracy: 0.5695 - val_loss: 0.6825 - val_binary_accuracy: 0.5739\n",
            "Epoch 5/15\n",
            "12/12 [==============================] - 1s 116ms/step - loss: 0.6841 - binary_accuracy: 0.5695 - val_loss: 0.6824 - val_binary_accuracy: 0.5739\n",
            "Epoch 6/15\n",
            "12/12 [==============================] - 1s 110ms/step - loss: 0.6838 - binary_accuracy: 0.5695 - val_loss: 0.6823 - val_binary_accuracy: 0.5739\n",
            "Epoch 7/15\n",
            "12/12 [==============================] - 1s 110ms/step - loss: 0.6838 - binary_accuracy: 0.5695 - val_loss: 0.6823 - val_binary_accuracy: 0.5739\n",
            "Epoch 8/15\n",
            "12/12 [==============================] - 2s 137ms/step - loss: 0.6845 - binary_accuracy: 0.5695 - val_loss: 0.6824 - val_binary_accuracy: 0.5739\n",
            "Epoch 9/15\n",
            "12/12 [==============================] - 2s 160ms/step - loss: 0.6840 - binary_accuracy: 0.5695 - val_loss: 0.6825 - val_binary_accuracy: 0.5739\n",
            "Epoch 10/15\n",
            "12/12 [==============================] - 2s 128ms/step - loss: 0.6841 - binary_accuracy: 0.5695 - val_loss: 0.6825 - val_binary_accuracy: 0.5739\n",
            "Epoch 11/15\n",
            "12/12 [==============================] - 1s 111ms/step - loss: 0.6844 - binary_accuracy: 0.5695 - val_loss: 0.6826 - val_binary_accuracy: 0.5739\n",
            "Epoch 12/15\n",
            "12/12 [==============================] - 1s 110ms/step - loss: 0.6842 - binary_accuracy: 0.5695 - val_loss: 0.6826 - val_binary_accuracy: 0.5739\n",
            "Epoch 13/15\n",
            "12/12 [==============================] - 1s 118ms/step - loss: 0.6842 - binary_accuracy: 0.5695 - val_loss: 0.6826 - val_binary_accuracy: 0.5739\n",
            "Epoch 14/15\n",
            "12/12 [==============================] - 2s 162ms/step - loss: 0.6837 - binary_accuracy: 0.5695 - val_loss: 0.6826 - val_binary_accuracy: 0.5739\n",
            "Epoch 15/15\n",
            "12/12 [==============================] - 2s 162ms/step - loss: 0.6845 - binary_accuracy: 0.5695 - val_loss: 0.6826 - val_binary_accuracy: 0.5739\n"
          ]
        }
      ]
    },
    {
      "cell_type": "code",
      "source": [
        "acc = history.history['binary_accuracy']\n",
        "val_acc = history.history['val_binary_accuracy']\n",
        "loss = history.history['loss']\n",
        "val_loss = history.history['val_loss']\n",
        "\n",
        "epochs = range(1, len(acc) + 1)\n",
        "\n",
        "# \"bo\" is for \"blue dot\"\n",
        "plt.plot(epochs, loss, 'bo', label='Training loss')\n",
        "# b is for \"solid blue line\"\n",
        "plt.plot(epochs, val_loss, 'b', label='Validation loss')\n",
        "plt.title('Training and validation loss')\n",
        "plt.xlabel('Epochs')\n",
        "plt.ylabel('Loss')\n",
        "plt.legend()\n",
        "\n",
        "plt.show()"
      ],
      "metadata": {
        "colab": {
          "base_uri": "https://localhost:8080/",
          "height": 295
        },
        "id": "NLMSbRzhKZ_i",
        "outputId": "81eb5199-0f11-46f0-e5e0-433051aeb531"
      },
      "execution_count": 73,
      "outputs": [
        {
          "output_type": "display_data",
          "data": {
            "text/plain": [
              "<Figure size 432x288 with 1 Axes>"
            ],
            "image/png": "[encoded data removed]"
          },
          "metadata": {
            "needs_background": "light"
          }
        }
      ]
    },
    {
      "cell_type": "markdown",
      "source": [
        "## GRU"
      ],
      "metadata": {
        "id": "MZTyfTxsKFi6"
      }
    },
    {
      "cell_type": "code",
      "source": [
        "model = models.Sequential()\n",
        "model.add(layers.Embedding(1000, 32, input_length=maxlen))\n",
        "model.add(layers.GRU(32))\n",
        "model.add(layers.BatchNormalization())\n",
        "model.add(layers.Dropout(0.4))\n",
        "model.add(layers.Flatten())\n",
        "model.add(layers.Dense(64, activation='relu'))\n",
        "model.add(layers.Dropout(0.4))\n",
        "model.add(layers.Dense(32, activation='relu'))\n",
        "model.add(layers.Dropout(0.4))\n",
        "model.add(layers.Dense(1, activation='sigmoid'))\n",
        "\n",
        "\n",
        "model.compile(\n",
        "    loss='binary_crossentropy',\n",
        "    optimizer='Adamax',\n",
        "    metrics=[metrics.binary_accuracy]\n",
        ")\n",
        "\n",
        "model.summary()"
      ],
      "metadata": {
        "colab": {
          "base_uri": "https://localhost:8080/"
        },
        "id": "9sKgEjSMKm_d",
        "outputId": "d5d2f829-a8ae-43b9-f61b-7936dbb63c50"
      },
      "execution_count": 74,
      "outputs": [
        {
          "output_type": "stream",
          "name": "stdout",
          "text": [
            "Model: \"sequential_10\"\n",
            "_________________________________________________________________\n",
            " Layer (type)                Output Shape              Param #   \n",
            "=================================================================\n",
            " embedding_10 (Embedding)    (None, 2000, 32)          32000     \n",
            "                                                                 \n",
            " gru_2 (GRU)                 (None, 32)                6336      \n",
            "                                                                 \n",
            " batch_normalization_10 (Bat  (None, 32)               128       \n",
            " chNormalization)                                                \n",
            "                                                                 \n",
            " dropout_26 (Dropout)        (None, 32)                0         \n",
            "                                                                 \n",
            " flatten_10 (Flatten)        (None, 32)                0         \n",
            "                                                                 \n",
            " dense_30 (Dense)            (None, 64)                2112      \n",
            "                                                                 \n",
            " dropout_27 (Dropout)        (None, 64)                0         \n",
            "                                                                 \n",
            " dense_31 (Dense)            (None, 32)                2080      \n",
            "                                                                 \n",
            " dropout_28 (Dropout)        (None, 32)                0         \n",
            "                                                                 \n",
            " dense_32 (Dense)            (None, 1)                 33        \n",
            "                                                                 \n",
            "=================================================================\n",
            "Total params: 42,689\n",
            "Trainable params: 42,625\n",
            "Non-trainable params: 64\n",
            "_________________________________________________________________\n"
          ]
        }
      ]
    },
    {
      "cell_type": "code",
      "source": [
        "history = model.fit(\n",
        "    training_padded, \n",
        "    y_train, \n",
        "    epochs = 15, \n",
        "    batch_size = 512,  \n",
        "    validation_data=(val_padded, y_val)\n",
        ")"
      ],
      "metadata": {
        "colab": {
          "base_uri": "https://localhost:8080/"
        },
        "id": "_KPz1GQsKEPc",
        "outputId": "8104b743-c800-4af2-9065-d8bd178998be"
      },
      "execution_count": 75,
      "outputs": [
        {
          "output_type": "stream",
          "name": "stdout",
          "text": [
            "Epoch 1/15\n",
            "12/12 [==============================] - 6s 210ms/step - loss: 0.6910 - binary_accuracy: 0.5622 - val_loss: 0.6884 - val_binary_accuracy: 0.5739\n",
            "Epoch 2/15\n",
            "12/12 [==============================] - 1s 112ms/step - loss: 0.6874 - binary_accuracy: 0.5700 - val_loss: 0.6849 - val_binary_accuracy: 0.5739\n",
            "Epoch 3/15\n",
            "12/12 [==============================] - 1s 111ms/step - loss: 0.6857 - binary_accuracy: 0.5693 - val_loss: 0.6831 - val_binary_accuracy: 0.5739\n",
            "Epoch 4/15\n",
            "12/12 [==============================] - 1s 109ms/step - loss: 0.6846 - binary_accuracy: 0.5693 - val_loss: 0.6825 - val_binary_accuracy: 0.5739\n",
            "Epoch 5/15\n",
            "12/12 [==============================] - 1s 110ms/step - loss: 0.6843 - binary_accuracy: 0.5695 - val_loss: 0.6823 - val_binary_accuracy: 0.5739\n",
            "Epoch 6/15\n",
            "12/12 [==============================] - 1s 111ms/step - loss: 0.6846 - binary_accuracy: 0.5695 - val_loss: 0.6824 - val_binary_accuracy: 0.5739\n",
            "Epoch 7/15\n",
            "12/12 [==============================] - 1s 110ms/step - loss: 0.6844 - binary_accuracy: 0.5695 - val_loss: 0.6824 - val_binary_accuracy: 0.5739\n",
            "Epoch 8/15\n",
            "12/12 [==============================] - 1s 109ms/step - loss: 0.6842 - binary_accuracy: 0.5695 - val_loss: 0.6823 - val_binary_accuracy: 0.5739\n",
            "Epoch 9/15\n",
            "12/12 [==============================] - 1s 109ms/step - loss: 0.6845 - binary_accuracy: 0.5695 - val_loss: 0.6824 - val_binary_accuracy: 0.5739\n",
            "Epoch 10/15\n",
            "12/12 [==============================] - 1s 109ms/step - loss: 0.6844 - binary_accuracy: 0.5695 - val_loss: 0.6823 - val_binary_accuracy: 0.5739\n",
            "Epoch 11/15\n",
            "12/12 [==============================] - 1s 112ms/step - loss: 0.6842 - binary_accuracy: 0.5695 - val_loss: 0.6824 - val_binary_accuracy: 0.5739\n",
            "Epoch 12/15\n",
            "12/12 [==============================] - 1s 111ms/step - loss: 0.6845 - binary_accuracy: 0.5695 - val_loss: 0.6825 - val_binary_accuracy: 0.5739\n",
            "Epoch 13/15\n",
            "12/12 [==============================] - 1s 111ms/step - loss: 0.6849 - binary_accuracy: 0.5695 - val_loss: 0.6824 - val_binary_accuracy: 0.5739\n",
            "Epoch 14/15\n",
            "12/12 [==============================] - 1s 115ms/step - loss: 0.6842 - binary_accuracy: 0.5695 - val_loss: 0.6824 - val_binary_accuracy: 0.5739\n",
            "Epoch 15/15\n",
            "12/12 [==============================] - 1s 112ms/step - loss: 0.6839 - binary_accuracy: 0.5695 - val_loss: 0.6824 - val_binary_accuracy: 0.5739\n"
          ]
        }
      ]
    },
    {
      "cell_type": "code",
      "source": [
        "acc = history.history['binary_accuracy']\n",
        "val_acc = history.history['val_binary_accuracy']\n",
        "loss = history.history['loss']\n",
        "val_loss = history.history['val_loss']\n",
        "\n",
        "epochs = range(1, len(acc) + 1)\n",
        "\n",
        "# \"bo\" is for \"blue dot\"\n",
        "plt.plot(epochs, loss, 'bo', label='Training loss')\n",
        "# b is for \"solid blue line\"\n",
        "plt.plot(epochs, val_loss, 'b', label='Validation loss')\n",
        "plt.title('Training and validation loss')\n",
        "plt.xlabel('Epochs')\n",
        "plt.ylabel('Loss')\n",
        "plt.legend()\n",
        "\n",
        "plt.show()"
      ],
      "metadata": {
        "colab": {
          "base_uri": "https://localhost:8080/",
          "height": 295
        },
        "id": "Hrfi9TWmKbpe",
        "outputId": "654b0e14-a0d1-4eaa-9926-47f6a1306387"
      },
      "execution_count": 76,
      "outputs": [
        {
          "output_type": "display_data",
          "data": {
            "text/plain": [
              "<Figure size 432x288 with 1 Axes>"
            ],
            "image/png": "[encoded data removed]"
          },
          "metadata": {
            "needs_background": "light"
          }
        }
      ]
    },
    {
      "cell_type": "markdown",
      "source": [
        "## BiLSTM"
      ],
      "metadata": {
        "id": "bP-3lmi5KOQJ"
      }
    },
    {
      "cell_type": "code",
      "source": [
        "model = models.Sequential()\n",
        "model.add(layers.Embedding(1000, 32, input_length=maxlen))\n",
        "model.add(layers.Bidirectional(layers.LSTM(32)))\n",
        "model.add(layers.BatchNormalization())\n",
        "model.add(layers.Dropout(0.4))\n",
        "model.add(layers.Flatten())\n",
        "model.add(layers.Dense(64, activation='relu'))\n",
        "model.add(layers.Dropout(0.4))\n",
        "model.add(layers.Dense(32, activation='relu'))\n",
        "model.add(layers.Dropout(0.4))\n",
        "model.add(layers.Dense(1, activation='sigmoid'))\n",
        "\n",
        "\n",
        "model.compile(\n",
        "    loss='binary_crossentropy',\n",
        "    optimizer='Adamax',\n",
        "    metrics=[metrics.binary_accuracy]\n",
        ")\n",
        "\n",
        "model.summary()"
      ],
      "metadata": {
        "colab": {
          "base_uri": "https://localhost:8080/"
        },
        "id": "AznLr2ZwKspH",
        "outputId": "c6157cf2-9d77-491f-88a3-eff828e9692d"
      },
      "execution_count": 77,
      "outputs": [
        {
          "output_type": "stream",
          "name": "stdout",
          "text": [
            "Model: \"sequential_11\"\n",
            "_________________________________________________________________\n",
            " Layer (type)                Output Shape              Param #   \n",
            "=================================================================\n",
            " embedding_11 (Embedding)    (None, 2000, 32)          32000     \n",
            "                                                                 \n",
            " bidirectional_3 (Bidirectio  (None, 64)               16640     \n",
            " nal)                                                            \n",
            "                                                                 \n",
            " batch_normalization_11 (Bat  (None, 64)               256       \n",
            " chNormalization)                                                \n",
            "                                                                 \n",
            " dropout_29 (Dropout)        (None, 64)                0         \n",
            "                                                                 \n",
            " flatten_11 (Flatten)        (None, 64)                0         \n",
            "                                                                 \n",
            " dense_33 (Dense)            (None, 64)                4160      \n",
            "                                                                 \n",
            " dropout_30 (Dropout)        (None, 64)                0         \n",
            "                                                                 \n",
            " dense_34 (Dense)            (None, 32)                2080      \n",
            "                                                                 \n",
            " dropout_31 (Dropout)        (None, 32)                0         \n",
            "                                                                 \n",
            " dense_35 (Dense)            (None, 1)                 33        \n",
            "                                                                 \n",
            "=================================================================\n",
            "Total params: 55,169\n",
            "Trainable params: 55,041\n",
            "Non-trainable params: 128\n",
            "_________________________________________________________________\n"
          ]
        }
      ]
    },
    {
      "cell_type": "code",
      "source": [
        "history = model.fit(\n",
        "    training_padded, \n",
        "    y_train, \n",
        "    epochs = 15, \n",
        "    batch_size = 512,  \n",
        "    validation_data=(val_padded, y_val)\n",
        ")"
      ],
      "metadata": {
        "colab": {
          "base_uri": "https://localhost:8080/"
        },
        "id": "ePpnUgbsKNQO",
        "outputId": "8fe79550-0739-48ad-dc05-66c4c9bb96b1"
      },
      "execution_count": 78,
      "outputs": [
        {
          "output_type": "stream",
          "name": "stdout",
          "text": [
            "Epoch 1/15\n",
            "12/12 [==============================] - 7s 285ms/step - loss: 0.6984 - binary_accuracy: 0.5133 - val_loss: 0.6886 - val_binary_accuracy: 0.5739\n",
            "Epoch 2/15\n",
            "12/12 [==============================] - 3s 212ms/step - loss: 0.6794 - binary_accuracy: 0.5690 - val_loss: 0.6855 - val_binary_accuracy: 0.5739\n",
            "Epoch 3/15\n",
            "12/12 [==============================] - 3s 212ms/step - loss: 0.6579 - binary_accuracy: 0.6161 - val_loss: 0.6822 - val_binary_accuracy: 0.5739\n",
            "Epoch 4/15\n",
            "12/12 [==============================] - 3s 212ms/step - loss: 0.6336 - binary_accuracy: 0.6580 - val_loss: 0.6778 - val_binary_accuracy: 0.5739\n",
            "Epoch 5/15\n",
            "12/12 [==============================] - 3s 212ms/step - loss: 0.6035 - binary_accuracy: 0.6865 - val_loss: 0.6725 - val_binary_accuracy: 0.5739\n",
            "Epoch 6/15\n",
            "12/12 [==============================] - 3s 212ms/step - loss: 0.5594 - binary_accuracy: 0.7348 - val_loss: 0.6658 - val_binary_accuracy: 0.5739\n",
            "Epoch 7/15\n",
            "12/12 [==============================] - 3s 246ms/step - loss: 0.5094 - binary_accuracy: 0.7698 - val_loss: 0.6611 - val_binary_accuracy: 0.5745\n",
            "Epoch 8/15\n",
            "12/12 [==============================] - 3s 212ms/step - loss: 0.4693 - binary_accuracy: 0.8021 - val_loss: 0.6694 - val_binary_accuracy: 0.5739\n",
            "Epoch 9/15\n",
            "12/12 [==============================] - 3s 212ms/step - loss: 0.4532 - binary_accuracy: 0.8061 - val_loss: 0.6796 - val_binary_accuracy: 0.5739\n",
            "Epoch 10/15\n",
            "12/12 [==============================] - 3s 212ms/step - loss: 0.4333 - binary_accuracy: 0.8192 - val_loss: 0.6724 - val_binary_accuracy: 0.5739\n",
            "Epoch 11/15\n",
            "12/12 [==============================] - 3s 212ms/step - loss: 0.4132 - binary_accuracy: 0.8269 - val_loss: 0.6804 - val_binary_accuracy: 0.5739\n",
            "Epoch 12/15\n",
            "12/12 [==============================] - 3s 212ms/step - loss: 0.4139 - binary_accuracy: 0.8319 - val_loss: 0.6893 - val_binary_accuracy: 0.5739\n",
            "Epoch 13/15\n",
            "12/12 [==============================] - 3s 211ms/step - loss: 0.3958 - binary_accuracy: 0.8355 - val_loss: 0.6972 - val_binary_accuracy: 0.5745\n",
            "Epoch 14/15\n",
            "12/12 [==============================] - 3s 255ms/step - loss: 0.3927 - binary_accuracy: 0.8419 - val_loss: 0.6770 - val_binary_accuracy: 0.5758\n",
            "Epoch 15/15\n",
            "12/12 [==============================] - 3s 211ms/step - loss: 0.3788 - binary_accuracy: 0.8461 - val_loss: 0.6909 - val_binary_accuracy: 0.5752\n"
          ]
        }
      ]
    },
    {
      "cell_type": "code",
      "source": [
        "acc = history.history['binary_accuracy']\n",
        "val_acc = history.history['val_binary_accuracy']\n",
        "loss = history.history['loss']\n",
        "val_loss = history.history['val_loss']\n",
        "\n",
        "epochs = range(1, len(acc) + 1)\n",
        "\n",
        "# \"bo\" is for \"blue dot\"\n",
        "plt.plot(epochs, loss, 'bo', label='Training loss')\n",
        "# b is for \"solid blue line\"\n",
        "plt.plot(epochs, val_loss, 'b', label='Validation loss')\n",
        "plt.title('Training and validation loss')\n",
        "plt.xlabel('Epochs')\n",
        "plt.ylabel('Loss')\n",
        "plt.legend()\n",
        "\n",
        "plt.show()"
      ],
      "metadata": {
        "colab": {
          "base_uri": "https://localhost:8080/",
          "height": 295
        },
        "id": "wIumiDI1KdMh",
        "outputId": "ecbd81b0-0595-4607-f73f-b42f3d0b1858"
      },
      "execution_count": 79,
      "outputs": [
        {
          "output_type": "display_data",
          "data": {
            "text/plain": [
              "<Figure size 432x288 with 1 Axes>"
            ],
            "image/png": "[encoded data removed]"
          },
          "metadata": {
            "needs_background": "light"
          }
        }
      ]
    },
    {
      "cell_type": "code",
      "source": [
        ""
      ],
      "metadata": {
        "id": "Mm_eMCrcKxCb"
      },
      "execution_count": null,
      "outputs": []
    }
  ]
}